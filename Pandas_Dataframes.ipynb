{
  "nbformat": 4,
  "nbformat_minor": 0,
  "metadata": {
    "colab": {
      "name": "Pandas-Dataframes.ipynb",
      "provenance": [],
      "collapsed_sections": [],
      "authorship_tag": "ABX9TyNH+4zQrXNcTkfNDdawzT/2",
      "include_colab_link": true
    },
    "kernelspec": {
      "name": "python3",
      "display_name": "Python 3"
    }
  },
  "cells": [
    {
      "cell_type": "markdown",
      "metadata": {
        "id": "view-in-github",
        "colab_type": "text"
      },
      "source": [
        "<a href=\"https://colab.research.google.com/github/KrishnaPandya-VGEC-IT/Data-Science/blob/main/Pandas_Dataframes.ipynb\" target=\"_parent\"><img src=\"https://colab.research.google.com/assets/colab-badge.svg\" alt=\"Open In Colab\"/></a>"
      ]
    },
    {
      "cell_type": "markdown",
      "metadata": {
        "id": "uoM2AdFmOtJ5"
      },
      "source": [
        "**Basics**"
      ]
    },
    {
      "cell_type": "code",
      "metadata": {
        "id": "JOARjKqCO1HM"
      },
      "source": [
        "import pandas as pd\n",
        "import numpy as np"
      ],
      "execution_count": null,
      "outputs": []
    },
    {
      "cell_type": "code",
      "metadata": {
        "id": "tJIfG-klO8R5",
        "outputId": "4b779f3d-7ff0-4348-c3b1-df5644cdf3ff",
        "colab": {
          "base_uri": "https://localhost:8080/",
          "height": 197
        }
      },
      "source": [
        "# Creating dataframe\n",
        "\n",
        "df = pd.DataFrame({\n",
        "    'Enrollment': [1, 2, 3, 4, 5],\n",
        "\n",
        "    'Name' : ['Ramesh', 'Suresh', 'Meet', 'Pratik', 'Rutvik'],\n",
        "\n",
        "    'Department' : ['CE', 'IT', 'EE','EC', 'CI'],\n",
        "\n",
        "    'CGPA' : [7.5, 8.1, 9.33, 6.56, 8.55]\n",
        "},columns = ['Enrollment', 'Name', 'Department', 'CGPA'])\n",
        "\n",
        "df"
      ],
      "execution_count": null,
      "outputs": [
        {
          "output_type": "execute_result",
          "data": {
            "text/html": [
              "<div>\n",
              "<style scoped>\n",
              "    .dataframe tbody tr th:only-of-type {\n",
              "        vertical-align: middle;\n",
              "    }\n",
              "\n",
              "    .dataframe tbody tr th {\n",
              "        vertical-align: top;\n",
              "    }\n",
              "\n",
              "    .dataframe thead th {\n",
              "        text-align: right;\n",
              "    }\n",
              "</style>\n",
              "<table border=\"1\" class=\"dataframe\">\n",
              "  <thead>\n",
              "    <tr style=\"text-align: right;\">\n",
              "      <th></th>\n",
              "      <th>Enrollment</th>\n",
              "      <th>Name</th>\n",
              "      <th>Department</th>\n",
              "      <th>CGPA</th>\n",
              "    </tr>\n",
              "  </thead>\n",
              "  <tbody>\n",
              "    <tr>\n",
              "      <th>0</th>\n",
              "      <td>1</td>\n",
              "      <td>Ramesh</td>\n",
              "      <td>CE</td>\n",
              "      <td>7.50</td>\n",
              "    </tr>\n",
              "    <tr>\n",
              "      <th>1</th>\n",
              "      <td>2</td>\n",
              "      <td>Suresh</td>\n",
              "      <td>IT</td>\n",
              "      <td>8.10</td>\n",
              "    </tr>\n",
              "    <tr>\n",
              "      <th>2</th>\n",
              "      <td>3</td>\n",
              "      <td>Meet</td>\n",
              "      <td>EE</td>\n",
              "      <td>9.33</td>\n",
              "    </tr>\n",
              "    <tr>\n",
              "      <th>3</th>\n",
              "      <td>4</td>\n",
              "      <td>Pratik</td>\n",
              "      <td>EC</td>\n",
              "      <td>6.56</td>\n",
              "    </tr>\n",
              "    <tr>\n",
              "      <th>4</th>\n",
              "      <td>5</td>\n",
              "      <td>Rutvik</td>\n",
              "      <td>CI</td>\n",
              "      <td>8.55</td>\n",
              "    </tr>\n",
              "  </tbody>\n",
              "</table>\n",
              "</div>"
            ],
            "text/plain": [
              "   Enrollment    Name Department  CGPA\n",
              "0           1  Ramesh         CE  7.50\n",
              "1           2  Suresh         IT  8.10\n",
              "2           3    Meet         EE  9.33\n",
              "3           4  Pratik         EC  6.56\n",
              "4           5  Rutvik         CI  8.55"
            ]
          },
          "metadata": {
            "tags": []
          },
          "execution_count": 2
        }
      ]
    },
    {
      "cell_type": "code",
      "metadata": {
        "id": "zHEn6KYQQHKu",
        "outputId": "ffe6c3f0-5710-4664-bb37-3ff1638315cd",
        "colab": {
          "base_uri": "https://localhost:8080/"
        }
      },
      "source": [
        "df.columns #will print column names"
      ],
      "execution_count": null,
      "outputs": [
        {
          "output_type": "execute_result",
          "data": {
            "text/plain": [
              "Index(['Enrollment', 'Name', 'Department', 'CGPA'], dtype='object')"
            ]
          },
          "metadata": {
            "tags": []
          },
          "execution_count": 3
        }
      ]
    },
    {
      "cell_type": "code",
      "metadata": {
        "id": "5tvJG1O1XMyy",
        "outputId": "366811a7-dac8-46a1-93dd-262b3bc1ce1b",
        "colab": {
          "base_uri": "https://localhost:8080/"
        }
      },
      "source": [
        "df.index = ['First', 'Second', 'Third', 'Forth', 'Fifth'] #Gives indeces to rows\n",
        "\n",
        "df.index"
      ],
      "execution_count": null,
      "outputs": [
        {
          "output_type": "execute_result",
          "data": {
            "text/plain": [
              "Index(['First', 'Second', 'Third', 'Forth', 'Fifth'], dtype='object')"
            ]
          },
          "metadata": {
            "tags": []
          },
          "execution_count": 4
        }
      ]
    },
    {
      "cell_type": "code",
      "metadata": {
        "id": "n4stVaCwXWJt",
        "outputId": "314617c3-3b72-43a7-c2ac-8229ab2ccdb2",
        "colab": {
          "base_uri": "https://localhost:8080/"
        }
      },
      "source": [
        "df.info() # Prints basic information about datatypes of columns"
      ],
      "execution_count": null,
      "outputs": [
        {
          "output_type": "stream",
          "text": [
            "<class 'pandas.core.frame.DataFrame'>\n",
            "Index: 5 entries, First to Fifth\n",
            "Data columns (total 4 columns):\n",
            " #   Column      Non-Null Count  Dtype  \n",
            "---  ------      --------------  -----  \n",
            " 0   Enrollment  5 non-null      int64  \n",
            " 1   Name        5 non-null      object \n",
            " 2   Department  5 non-null      object \n",
            " 3   CGPA        5 non-null      float64\n",
            "dtypes: float64(1), int64(1), object(2)\n",
            "memory usage: 200.0+ bytes\n"
          ],
          "name": "stdout"
        }
      ]
    },
    {
      "cell_type": "code",
      "metadata": {
        "id": "Us4Zx65tXdAV",
        "outputId": "25b89b47-e139-4784-d334-6fc6d9b620ff",
        "colab": {
          "base_uri": "https://localhost:8080/"
        }
      },
      "source": [
        "df.size  #Total number of elements in table"
      ],
      "execution_count": null,
      "outputs": [
        {
          "output_type": "execute_result",
          "data": {
            "text/plain": [
              "20"
            ]
          },
          "metadata": {
            "tags": []
          },
          "execution_count": 6
        }
      ]
    },
    {
      "cell_type": "code",
      "metadata": {
        "id": "dHWvVHfgXkt_",
        "outputId": "ba58ba50-ee93-414d-93e7-da89578e696e",
        "colab": {
          "base_uri": "https://localhost:8080/"
        }
      },
      "source": [
        "df.shape #(rows, columns) for this example. Otherwise depends upon dimension."
      ],
      "execution_count": null,
      "outputs": [
        {
          "output_type": "execute_result",
          "data": {
            "text/plain": [
              "(5, 4)"
            ]
          },
          "metadata": {
            "tags": []
          },
          "execution_count": 7
        }
      ]
    },
    {
      "cell_type": "code",
      "metadata": {
        "id": "WxdCg90yXsHK",
        "outputId": "b9a6321c-000c-4ca1-d9e8-160e52c58e58",
        "colab": {
          "base_uri": "https://localhost:8080/",
          "height": 287
        }
      },
      "source": [
        "df.describe() # Gives basic functions like min, max, std, 25%, 50%, 75% for numeric columns."
      ],
      "execution_count": null,
      "outputs": [
        {
          "output_type": "execute_result",
          "data": {
            "text/html": [
              "<div>\n",
              "<style scoped>\n",
              "    .dataframe tbody tr th:only-of-type {\n",
              "        vertical-align: middle;\n",
              "    }\n",
              "\n",
              "    .dataframe tbody tr th {\n",
              "        vertical-align: top;\n",
              "    }\n",
              "\n",
              "    .dataframe thead th {\n",
              "        text-align: right;\n",
              "    }\n",
              "</style>\n",
              "<table border=\"1\" class=\"dataframe\">\n",
              "  <thead>\n",
              "    <tr style=\"text-align: right;\">\n",
              "      <th></th>\n",
              "      <th>Enrollment</th>\n",
              "      <th>CGPA</th>\n",
              "    </tr>\n",
              "  </thead>\n",
              "  <tbody>\n",
              "    <tr>\n",
              "      <th>count</th>\n",
              "      <td>5.000000</td>\n",
              "      <td>5.000000</td>\n",
              "    </tr>\n",
              "    <tr>\n",
              "      <th>mean</th>\n",
              "      <td>3.000000</td>\n",
              "      <td>8.008000</td>\n",
              "    </tr>\n",
              "    <tr>\n",
              "      <th>std</th>\n",
              "      <td>1.581139</td>\n",
              "      <td>1.049366</td>\n",
              "    </tr>\n",
              "    <tr>\n",
              "      <th>min</th>\n",
              "      <td>1.000000</td>\n",
              "      <td>6.560000</td>\n",
              "    </tr>\n",
              "    <tr>\n",
              "      <th>25%</th>\n",
              "      <td>2.000000</td>\n",
              "      <td>7.500000</td>\n",
              "    </tr>\n",
              "    <tr>\n",
              "      <th>50%</th>\n",
              "      <td>3.000000</td>\n",
              "      <td>8.100000</td>\n",
              "    </tr>\n",
              "    <tr>\n",
              "      <th>75%</th>\n",
              "      <td>4.000000</td>\n",
              "      <td>8.550000</td>\n",
              "    </tr>\n",
              "    <tr>\n",
              "      <th>max</th>\n",
              "      <td>5.000000</td>\n",
              "      <td>9.330000</td>\n",
              "    </tr>\n",
              "  </tbody>\n",
              "</table>\n",
              "</div>"
            ],
            "text/plain": [
              "       Enrollment      CGPA\n",
              "count    5.000000  5.000000\n",
              "mean     3.000000  8.008000\n",
              "std      1.581139  1.049366\n",
              "min      1.000000  6.560000\n",
              "25%      2.000000  7.500000\n",
              "50%      3.000000  8.100000\n",
              "75%      4.000000  8.550000\n",
              "max      5.000000  9.330000"
            ]
          },
          "metadata": {
            "tags": []
          },
          "execution_count": 8
        }
      ]
    },
    {
      "cell_type": "code",
      "metadata": {
        "id": "MX8vLb4fX7lu",
        "outputId": "ac3b31ee-dc5e-435b-bb3c-3aa7e8a57bc6",
        "colab": {
          "base_uri": "https://localhost:8080/"
        }
      },
      "source": [
        "df.dtypes   # prints datatypes of each and every column"
      ],
      "execution_count": null,
      "outputs": [
        {
          "output_type": "execute_result",
          "data": {
            "text/plain": [
              "Enrollment      int64\n",
              "Name           object\n",
              "Department     object\n",
              "CGPA          float64\n",
              "dtype: object"
            ]
          },
          "metadata": {
            "tags": []
          },
          "execution_count": 9
        }
      ]
    },
    {
      "cell_type": "code",
      "metadata": {
        "id": "Xf2GpmQSYCpM",
        "outputId": "9aee2abf-30fc-4c7f-b04e-d81fd9223f7e",
        "colab": {
          "base_uri": "https://localhost:8080/"
        }
      },
      "source": [
        "df.dtypes.value_counts()  # Counts datatype values. i.e., int64 - 2 and float64 - 1"
      ],
      "execution_count": null,
      "outputs": [
        {
          "output_type": "execute_result",
          "data": {
            "text/plain": [
              "object     2\n",
              "float64    1\n",
              "int64      1\n",
              "dtype: int64"
            ]
          },
          "metadata": {
            "tags": []
          },
          "execution_count": 10
        }
      ]
    },
    {
      "cell_type": "markdown",
      "metadata": {
        "id": "b6etEtF5YZ2H"
      },
      "source": [
        "**Indexing, Selection and Slicing**"
      ]
    },
    {
      "cell_type": "code",
      "metadata": {
        "id": "79Fhx6zCYead",
        "outputId": "8731bd92-3fa1-4485-96cf-e3e0dd16d9b4",
        "colab": {
          "base_uri": "https://localhost:8080/",
          "height": 197
        }
      },
      "source": [
        "df  #prints dataframe"
      ],
      "execution_count": null,
      "outputs": [
        {
          "output_type": "execute_result",
          "data": {
            "text/html": [
              "<div>\n",
              "<style scoped>\n",
              "    .dataframe tbody tr th:only-of-type {\n",
              "        vertical-align: middle;\n",
              "    }\n",
              "\n",
              "    .dataframe tbody tr th {\n",
              "        vertical-align: top;\n",
              "    }\n",
              "\n",
              "    .dataframe thead th {\n",
              "        text-align: right;\n",
              "    }\n",
              "</style>\n",
              "<table border=\"1\" class=\"dataframe\">\n",
              "  <thead>\n",
              "    <tr style=\"text-align: right;\">\n",
              "      <th></th>\n",
              "      <th>Enrollment</th>\n",
              "      <th>Name</th>\n",
              "      <th>Department</th>\n",
              "      <th>CGPA</th>\n",
              "    </tr>\n",
              "  </thead>\n",
              "  <tbody>\n",
              "    <tr>\n",
              "      <th>First</th>\n",
              "      <td>1</td>\n",
              "      <td>Ramesh</td>\n",
              "      <td>CE</td>\n",
              "      <td>7.50</td>\n",
              "    </tr>\n",
              "    <tr>\n",
              "      <th>Second</th>\n",
              "      <td>2</td>\n",
              "      <td>Suresh</td>\n",
              "      <td>IT</td>\n",
              "      <td>8.10</td>\n",
              "    </tr>\n",
              "    <tr>\n",
              "      <th>Third</th>\n",
              "      <td>3</td>\n",
              "      <td>Meet</td>\n",
              "      <td>EE</td>\n",
              "      <td>9.33</td>\n",
              "    </tr>\n",
              "    <tr>\n",
              "      <th>Forth</th>\n",
              "      <td>4</td>\n",
              "      <td>Pratik</td>\n",
              "      <td>EC</td>\n",
              "      <td>6.56</td>\n",
              "    </tr>\n",
              "    <tr>\n",
              "      <th>Fifth</th>\n",
              "      <td>5</td>\n",
              "      <td>Rutvik</td>\n",
              "      <td>CI</td>\n",
              "      <td>8.55</td>\n",
              "    </tr>\n",
              "  </tbody>\n",
              "</table>\n",
              "</div>"
            ],
            "text/plain": [
              "        Enrollment    Name Department  CGPA\n",
              "First            1  Ramesh         CE  7.50\n",
              "Second           2  Suresh         IT  8.10\n",
              "Third            3    Meet         EE  9.33\n",
              "Forth            4  Pratik         EC  6.56\n",
              "Fifth            5  Rutvik         CI  8.55"
            ]
          },
          "metadata": {
            "tags": []
          },
          "execution_count": 11
        }
      ]
    },
    {
      "cell_type": "code",
      "metadata": {
        "id": "b8y6JTk0Yifs",
        "outputId": "81562078-d31b-4e9c-84fa-805f43c3c0ba",
        "colab": {
          "base_uri": "https://localhost:8080/"
        }
      },
      "source": [
        "df.loc['Third'] #Find row by index name"
      ],
      "execution_count": null,
      "outputs": [
        {
          "output_type": "execute_result",
          "data": {
            "text/plain": [
              "Enrollment       3\n",
              "Name          Meet\n",
              "Department      EE\n",
              "CGPA          9.33\n",
              "Name: Third, dtype: object"
            ]
          },
          "metadata": {
            "tags": []
          },
          "execution_count": 12
        }
      ]
    },
    {
      "cell_type": "code",
      "metadata": {
        "id": "Qoln1ylhYmQu",
        "outputId": "d0c43ac3-b2d3-4114-a375-0d2a609c97e6",
        "colab": {
          "base_uri": "https://localhost:8080/"
        }
      },
      "source": [
        "df.iloc[1] # Find row by index number"
      ],
      "execution_count": null,
      "outputs": [
        {
          "output_type": "execute_result",
          "data": {
            "text/plain": [
              "Enrollment         2\n",
              "Name          Suresh\n",
              "Department        IT\n",
              "CGPA             8.1\n",
              "Name: Second, dtype: object"
            ]
          },
          "metadata": {
            "tags": []
          },
          "execution_count": 13
        }
      ]
    },
    {
      "cell_type": "code",
      "metadata": {
        "id": "5mfyXvsCYsB_",
        "outputId": "288a0df4-5ff6-463c-b446-8bb033d05dff",
        "colab": {
          "base_uri": "https://localhost:8080/"
        }
      },
      "source": [
        "df.iloc[-1] # Last row of df"
      ],
      "execution_count": null,
      "outputs": [
        {
          "output_type": "execute_result",
          "data": {
            "text/plain": [
              "Enrollment         5\n",
              "Name          Rutvik\n",
              "Department        CI\n",
              "CGPA            8.55\n",
              "Name: Fifth, dtype: object"
            ]
          },
          "metadata": {
            "tags": []
          },
          "execution_count": 14
        }
      ]
    },
    {
      "cell_type": "code",
      "metadata": {
        "id": "XN6LL2pWYuPn",
        "outputId": "62f1cc45-0502-4556-9a2c-bc9fd33067f2",
        "colab": {
          "base_uri": "https://localhost:8080/"
        }
      },
      "source": [
        "df['Department'] # To print column with name 'Department'"
      ],
      "execution_count": null,
      "outputs": [
        {
          "output_type": "execute_result",
          "data": {
            "text/plain": [
              "First     CE\n",
              "Second    IT\n",
              "Third     EE\n",
              "Forth     EC\n",
              "Fifth     CI\n",
              "Name: Department, dtype: object"
            ]
          },
          "metadata": {
            "tags": []
          },
          "execution_count": 15
        }
      ]
    },
    {
      "cell_type": "code",
      "metadata": {
        "id": "E9DEizaxY2Gm",
        "outputId": "e745a748-99c8-45a0-b29c-e9be18c19205",
        "colab": {
          "base_uri": "https://localhost:8080/",
          "height": 197
        }
      },
      "source": [
        "df['Department'].to_frame() # To print column in form of dataframe"
      ],
      "execution_count": null,
      "outputs": [
        {
          "output_type": "execute_result",
          "data": {
            "text/html": [
              "<div>\n",
              "<style scoped>\n",
              "    .dataframe tbody tr th:only-of-type {\n",
              "        vertical-align: middle;\n",
              "    }\n",
              "\n",
              "    .dataframe tbody tr th {\n",
              "        vertical-align: top;\n",
              "    }\n",
              "\n",
              "    .dataframe thead th {\n",
              "        text-align: right;\n",
              "    }\n",
              "</style>\n",
              "<table border=\"1\" class=\"dataframe\">\n",
              "  <thead>\n",
              "    <tr style=\"text-align: right;\">\n",
              "      <th></th>\n",
              "      <th>Department</th>\n",
              "    </tr>\n",
              "  </thead>\n",
              "  <tbody>\n",
              "    <tr>\n",
              "      <th>First</th>\n",
              "      <td>CE</td>\n",
              "    </tr>\n",
              "    <tr>\n",
              "      <th>Second</th>\n",
              "      <td>IT</td>\n",
              "    </tr>\n",
              "    <tr>\n",
              "      <th>Third</th>\n",
              "      <td>EE</td>\n",
              "    </tr>\n",
              "    <tr>\n",
              "      <th>Forth</th>\n",
              "      <td>EC</td>\n",
              "    </tr>\n",
              "    <tr>\n",
              "      <th>Fifth</th>\n",
              "      <td>CI</td>\n",
              "    </tr>\n",
              "  </tbody>\n",
              "</table>\n",
              "</div>"
            ],
            "text/plain": [
              "       Department\n",
              "First          CE\n",
              "Second         IT\n",
              "Third          EE\n",
              "Forth          EC\n",
              "Fifth          CI"
            ]
          },
          "metadata": {
            "tags": []
          },
          "execution_count": 16
        }
      ]
    },
    {
      "cell_type": "code",
      "metadata": {
        "id": "7eo1ion4Y9AS",
        "outputId": "5704a16e-134b-4b47-95be-7afb8e07e577",
        "colab": {
          "base_uri": "https://localhost:8080/",
          "height": 197
        }
      },
      "source": [
        "df[['Name','CGPA']] # prints two columns"
      ],
      "execution_count": null,
      "outputs": [
        {
          "output_type": "execute_result",
          "data": {
            "text/html": [
              "<div>\n",
              "<style scoped>\n",
              "    .dataframe tbody tr th:only-of-type {\n",
              "        vertical-align: middle;\n",
              "    }\n",
              "\n",
              "    .dataframe tbody tr th {\n",
              "        vertical-align: top;\n",
              "    }\n",
              "\n",
              "    .dataframe thead th {\n",
              "        text-align: right;\n",
              "    }\n",
              "</style>\n",
              "<table border=\"1\" class=\"dataframe\">\n",
              "  <thead>\n",
              "    <tr style=\"text-align: right;\">\n",
              "      <th></th>\n",
              "      <th>Name</th>\n",
              "      <th>CGPA</th>\n",
              "    </tr>\n",
              "  </thead>\n",
              "  <tbody>\n",
              "    <tr>\n",
              "      <th>First</th>\n",
              "      <td>Ramesh</td>\n",
              "      <td>7.50</td>\n",
              "    </tr>\n",
              "    <tr>\n",
              "      <th>Second</th>\n",
              "      <td>Suresh</td>\n",
              "      <td>8.10</td>\n",
              "    </tr>\n",
              "    <tr>\n",
              "      <th>Third</th>\n",
              "      <td>Meet</td>\n",
              "      <td>9.33</td>\n",
              "    </tr>\n",
              "    <tr>\n",
              "      <th>Forth</th>\n",
              "      <td>Pratik</td>\n",
              "      <td>6.56</td>\n",
              "    </tr>\n",
              "    <tr>\n",
              "      <th>Fifth</th>\n",
              "      <td>Rutvik</td>\n",
              "      <td>8.55</td>\n",
              "    </tr>\n",
              "  </tbody>\n",
              "</table>\n",
              "</div>"
            ],
            "text/plain": [
              "          Name  CGPA\n",
              "First   Ramesh  7.50\n",
              "Second  Suresh  8.10\n",
              "Third     Meet  9.33\n",
              "Forth   Pratik  6.56\n",
              "Fifth   Rutvik  8.55"
            ]
          },
          "metadata": {
            "tags": []
          },
          "execution_count": 17
        }
      ]
    },
    {
      "cell_type": "code",
      "metadata": {
        "id": "6ValQgW5dEMB",
        "outputId": "b6abef8c-1c66-4996-b2dc-a04287a694fe",
        "colab": {
          "base_uri": "https://localhost:8080/",
          "height": 107
        }
      },
      "source": [
        "df[1:3] # Rows with index 1,2"
      ],
      "execution_count": null,
      "outputs": [
        {
          "output_type": "execute_result",
          "data": {
            "text/html": [
              "<div>\n",
              "<style scoped>\n",
              "    .dataframe tbody tr th:only-of-type {\n",
              "        vertical-align: middle;\n",
              "    }\n",
              "\n",
              "    .dataframe tbody tr th {\n",
              "        vertical-align: top;\n",
              "    }\n",
              "\n",
              "    .dataframe thead th {\n",
              "        text-align: right;\n",
              "    }\n",
              "</style>\n",
              "<table border=\"1\" class=\"dataframe\">\n",
              "  <thead>\n",
              "    <tr style=\"text-align: right;\">\n",
              "      <th></th>\n",
              "      <th>Enrollment</th>\n",
              "      <th>Name</th>\n",
              "      <th>Department</th>\n",
              "      <th>CGPA</th>\n",
              "    </tr>\n",
              "  </thead>\n",
              "  <tbody>\n",
              "    <tr>\n",
              "      <th>Second</th>\n",
              "      <td>2</td>\n",
              "      <td>Suresh</td>\n",
              "      <td>IT</td>\n",
              "      <td>8.10</td>\n",
              "    </tr>\n",
              "    <tr>\n",
              "      <th>Third</th>\n",
              "      <td>3</td>\n",
              "      <td>Meet</td>\n",
              "      <td>EE</td>\n",
              "      <td>9.33</td>\n",
              "    </tr>\n",
              "  </tbody>\n",
              "</table>\n",
              "</div>"
            ],
            "text/plain": [
              "        Enrollment    Name Department  CGPA\n",
              "Second           2  Suresh         IT  8.10\n",
              "Third            3    Meet         EE  9.33"
            ]
          },
          "metadata": {
            "tags": []
          },
          "execution_count": 18
        }
      ]
    },
    {
      "cell_type": "code",
      "metadata": {
        "id": "KJIaB0-QdJc0",
        "outputId": "8eedae29-ea48-40c6-c38b-216af1f847ef",
        "colab": {
          "base_uri": "https://localhost:8080/"
        }
      },
      "source": [
        "df.loc['Third'] # Index with name 'Third'"
      ],
      "execution_count": null,
      "outputs": [
        {
          "output_type": "execute_result",
          "data": {
            "text/plain": [
              "Enrollment       3\n",
              "Name          Meet\n",
              "Department      EE\n",
              "CGPA          9.33\n",
              "Name: Third, dtype: object"
            ]
          },
          "metadata": {
            "tags": []
          },
          "execution_count": 19
        }
      ]
    },
    {
      "cell_type": "code",
      "metadata": {
        "id": "DI-gLDuqdYKz",
        "outputId": "673c49c5-c835-4a7b-d041-cf2850fcb47c",
        "colab": {
          "base_uri": "https://localhost:8080/",
          "height": 137
        }
      },
      "source": [
        "df.loc['Third':'Fifth'] # index with names 'Third' to 'Fifth'"
      ],
      "execution_count": null,
      "outputs": [
        {
          "output_type": "execute_result",
          "data": {
            "text/html": [
              "<div>\n",
              "<style scoped>\n",
              "    .dataframe tbody tr th:only-of-type {\n",
              "        vertical-align: middle;\n",
              "    }\n",
              "\n",
              "    .dataframe tbody tr th {\n",
              "        vertical-align: top;\n",
              "    }\n",
              "\n",
              "    .dataframe thead th {\n",
              "        text-align: right;\n",
              "    }\n",
              "</style>\n",
              "<table border=\"1\" class=\"dataframe\">\n",
              "  <thead>\n",
              "    <tr style=\"text-align: right;\">\n",
              "      <th></th>\n",
              "      <th>Enrollment</th>\n",
              "      <th>Name</th>\n",
              "      <th>Department</th>\n",
              "      <th>CGPA</th>\n",
              "    </tr>\n",
              "  </thead>\n",
              "  <tbody>\n",
              "    <tr>\n",
              "      <th>Third</th>\n",
              "      <td>3</td>\n",
              "      <td>Meet</td>\n",
              "      <td>EE</td>\n",
              "      <td>9.33</td>\n",
              "    </tr>\n",
              "    <tr>\n",
              "      <th>Forth</th>\n",
              "      <td>4</td>\n",
              "      <td>Pratik</td>\n",
              "      <td>EC</td>\n",
              "      <td>6.56</td>\n",
              "    </tr>\n",
              "    <tr>\n",
              "      <th>Fifth</th>\n",
              "      <td>5</td>\n",
              "      <td>Rutvik</td>\n",
              "      <td>CI</td>\n",
              "      <td>8.55</td>\n",
              "    </tr>\n",
              "  </tbody>\n",
              "</table>\n",
              "</div>"
            ],
            "text/plain": [
              "       Enrollment    Name Department  CGPA\n",
              "Third           3    Meet         EE  9.33\n",
              "Forth           4  Pratik         EC  6.56\n",
              "Fifth           5  Rutvik         CI  8.55"
            ]
          },
          "metadata": {
            "tags": []
          },
          "execution_count": 20
        }
      ]
    },
    {
      "cell_type": "code",
      "metadata": {
        "id": "Ma1dU7eVdQXs",
        "outputId": "6d6fc13f-2d2c-48f6-b1ad-c2d4cd803f66",
        "colab": {
          "base_uri": "https://localhost:8080/",
          "height": 137
        }
      },
      "source": [
        "df.loc['Third':'Fifth',['Department','CGPA']] # three rows with only two columns"
      ],
      "execution_count": null,
      "outputs": [
        {
          "output_type": "execute_result",
          "data": {
            "text/html": [
              "<div>\n",
              "<style scoped>\n",
              "    .dataframe tbody tr th:only-of-type {\n",
              "        vertical-align: middle;\n",
              "    }\n",
              "\n",
              "    .dataframe tbody tr th {\n",
              "        vertical-align: top;\n",
              "    }\n",
              "\n",
              "    .dataframe thead th {\n",
              "        text-align: right;\n",
              "    }\n",
              "</style>\n",
              "<table border=\"1\" class=\"dataframe\">\n",
              "  <thead>\n",
              "    <tr style=\"text-align: right;\">\n",
              "      <th></th>\n",
              "      <th>Department</th>\n",
              "      <th>CGPA</th>\n",
              "    </tr>\n",
              "  </thead>\n",
              "  <tbody>\n",
              "    <tr>\n",
              "      <th>Third</th>\n",
              "      <td>EE</td>\n",
              "      <td>9.33</td>\n",
              "    </tr>\n",
              "    <tr>\n",
              "      <th>Forth</th>\n",
              "      <td>EC</td>\n",
              "      <td>6.56</td>\n",
              "    </tr>\n",
              "    <tr>\n",
              "      <th>Fifth</th>\n",
              "      <td>CI</td>\n",
              "      <td>8.55</td>\n",
              "    </tr>\n",
              "  </tbody>\n",
              "</table>\n",
              "</div>"
            ],
            "text/plain": [
              "      Department  CGPA\n",
              "Third         EE  9.33\n",
              "Forth         EC  6.56\n",
              "Fifth         CI  8.55"
            ]
          },
          "metadata": {
            "tags": []
          },
          "execution_count": 21
        }
      ]
    },
    {
      "cell_type": "code",
      "metadata": {
        "id": "SU7fnFJQeqsB",
        "outputId": "dc9d5e63-7beb-4861-a100-da67e5ca2629",
        "colab": {
          "base_uri": "https://localhost:8080/"
        }
      },
      "source": [
        "df.iloc[-1] #last row"
      ],
      "execution_count": null,
      "outputs": [
        {
          "output_type": "execute_result",
          "data": {
            "text/plain": [
              "Enrollment         5\n",
              "Name          Rutvik\n",
              "Department        CI\n",
              "CGPA            8.55\n",
              "Name: Fifth, dtype: object"
            ]
          },
          "metadata": {
            "tags": []
          },
          "execution_count": 22
        }
      ]
    },
    {
      "cell_type": "code",
      "metadata": {
        "id": "nWiCwwmTeuX1",
        "outputId": "8e3230f1-f2c5-4710-98d0-8de1fed4a913",
        "colab": {
          "base_uri": "https://localhost:8080/",
          "height": 137
        }
      },
      "source": [
        "df.iloc[[0,1,-1]] # three rows with numeric indeces 0,1,-1"
      ],
      "execution_count": null,
      "outputs": [
        {
          "output_type": "execute_result",
          "data": {
            "text/html": [
              "<div>\n",
              "<style scoped>\n",
              "    .dataframe tbody tr th:only-of-type {\n",
              "        vertical-align: middle;\n",
              "    }\n",
              "\n",
              "    .dataframe tbody tr th {\n",
              "        vertical-align: top;\n",
              "    }\n",
              "\n",
              "    .dataframe thead th {\n",
              "        text-align: right;\n",
              "    }\n",
              "</style>\n",
              "<table border=\"1\" class=\"dataframe\">\n",
              "  <thead>\n",
              "    <tr style=\"text-align: right;\">\n",
              "      <th></th>\n",
              "      <th>Enrollment</th>\n",
              "      <th>Name</th>\n",
              "      <th>Department</th>\n",
              "      <th>CGPA</th>\n",
              "    </tr>\n",
              "  </thead>\n",
              "  <tbody>\n",
              "    <tr>\n",
              "      <th>First</th>\n",
              "      <td>1</td>\n",
              "      <td>Ramesh</td>\n",
              "      <td>CE</td>\n",
              "      <td>7.50</td>\n",
              "    </tr>\n",
              "    <tr>\n",
              "      <th>Second</th>\n",
              "      <td>2</td>\n",
              "      <td>Suresh</td>\n",
              "      <td>IT</td>\n",
              "      <td>8.10</td>\n",
              "    </tr>\n",
              "    <tr>\n",
              "      <th>Fifth</th>\n",
              "      <td>5</td>\n",
              "      <td>Rutvik</td>\n",
              "      <td>CI</td>\n",
              "      <td>8.55</td>\n",
              "    </tr>\n",
              "  </tbody>\n",
              "</table>\n",
              "</div>"
            ],
            "text/plain": [
              "        Enrollment    Name Department  CGPA\n",
              "First            1  Ramesh         CE  7.50\n",
              "Second           2  Suresh         IT  8.10\n",
              "Fifth            5  Rutvik         CI  8.55"
            ]
          },
          "metadata": {
            "tags": []
          },
          "execution_count": 23
        }
      ]
    },
    {
      "cell_type": "code",
      "metadata": {
        "id": "dRKKMpfqe24z",
        "outputId": "a6071266-d094-4ea6-c5f4-02d2d8bd09a9",
        "colab": {
          "base_uri": "https://localhost:8080/",
          "height": 107
        }
      },
      "source": [
        "df.iloc[1:3] # two rows with indeces 1,2 (Third is excluded)"
      ],
      "execution_count": null,
      "outputs": [
        {
          "output_type": "execute_result",
          "data": {
            "text/html": [
              "<div>\n",
              "<style scoped>\n",
              "    .dataframe tbody tr th:only-of-type {\n",
              "        vertical-align: middle;\n",
              "    }\n",
              "\n",
              "    .dataframe tbody tr th {\n",
              "        vertical-align: top;\n",
              "    }\n",
              "\n",
              "    .dataframe thead th {\n",
              "        text-align: right;\n",
              "    }\n",
              "</style>\n",
              "<table border=\"1\" class=\"dataframe\">\n",
              "  <thead>\n",
              "    <tr style=\"text-align: right;\">\n",
              "      <th></th>\n",
              "      <th>Enrollment</th>\n",
              "      <th>Name</th>\n",
              "      <th>Department</th>\n",
              "      <th>CGPA</th>\n",
              "    </tr>\n",
              "  </thead>\n",
              "  <tbody>\n",
              "    <tr>\n",
              "      <th>Second</th>\n",
              "      <td>2</td>\n",
              "      <td>Suresh</td>\n",
              "      <td>IT</td>\n",
              "      <td>8.10</td>\n",
              "    </tr>\n",
              "    <tr>\n",
              "      <th>Third</th>\n",
              "      <td>3</td>\n",
              "      <td>Meet</td>\n",
              "      <td>EE</td>\n",
              "      <td>9.33</td>\n",
              "    </tr>\n",
              "  </tbody>\n",
              "</table>\n",
              "</div>"
            ],
            "text/plain": [
              "        Enrollment    Name Department  CGPA\n",
              "Second           2  Suresh         IT  8.10\n",
              "Third            3    Meet         EE  9.33"
            ]
          },
          "metadata": {
            "tags": []
          },
          "execution_count": 24
        }
      ]
    },
    {
      "cell_type": "code",
      "metadata": {
        "id": "2lK7XjYje9ED",
        "outputId": "f486215b-512d-405d-c779-e0f987d013be",
        "colab": {
          "base_uri": "https://localhost:8080/"
        }
      },
      "source": [
        "df.iloc[1:3,2] # rows with indeces 1,2 and column index 2"
      ],
      "execution_count": null,
      "outputs": [
        {
          "output_type": "execute_result",
          "data": {
            "text/plain": [
              "Second    IT\n",
              "Third     EE\n",
              "Name: Department, dtype: object"
            ]
          },
          "metadata": {
            "tags": []
          },
          "execution_count": 25
        }
      ]
    },
    {
      "cell_type": "code",
      "metadata": {
        "id": "-ic76guSfJnf",
        "outputId": "d3f249c0-6f60-48e7-ab10-66674397cbca",
        "colab": {
          "base_uri": "https://localhost:8080/",
          "height": 107
        }
      },
      "source": [
        "df.iloc[1:3,[0,3]] # two rows with column indeces 0 and 3"
      ],
      "execution_count": null,
      "outputs": [
        {
          "output_type": "execute_result",
          "data": {
            "text/html": [
              "<div>\n",
              "<style scoped>\n",
              "    .dataframe tbody tr th:only-of-type {\n",
              "        vertical-align: middle;\n",
              "    }\n",
              "\n",
              "    .dataframe tbody tr th {\n",
              "        vertical-align: top;\n",
              "    }\n",
              "\n",
              "    .dataframe thead th {\n",
              "        text-align: right;\n",
              "    }\n",
              "</style>\n",
              "<table border=\"1\" class=\"dataframe\">\n",
              "  <thead>\n",
              "    <tr style=\"text-align: right;\">\n",
              "      <th></th>\n",
              "      <th>Enrollment</th>\n",
              "      <th>CGPA</th>\n",
              "    </tr>\n",
              "  </thead>\n",
              "  <tbody>\n",
              "    <tr>\n",
              "      <th>Second</th>\n",
              "      <td>2</td>\n",
              "      <td>8.10</td>\n",
              "    </tr>\n",
              "    <tr>\n",
              "      <th>Third</th>\n",
              "      <td>3</td>\n",
              "      <td>9.33</td>\n",
              "    </tr>\n",
              "  </tbody>\n",
              "</table>\n",
              "</div>"
            ],
            "text/plain": [
              "        Enrollment  CGPA\n",
              "Second           2  8.10\n",
              "Third            3  9.33"
            ]
          },
          "metadata": {
            "tags": []
          },
          "execution_count": 26
        }
      ]
    },
    {
      "cell_type": "code",
      "metadata": {
        "id": "jopqS4MDfPUV",
        "outputId": "94f94477-ecd0-47c5-bdcf-7ed4e1570b2b",
        "colab": {
          "base_uri": "https://localhost:8080/",
          "height": 107
        }
      },
      "source": [
        "df.iloc[1:3, 1:3] # index 1 and 2 row as well as same columns"
      ],
      "execution_count": null,
      "outputs": [
        {
          "output_type": "execute_result",
          "data": {
            "text/html": [
              "<div>\n",
              "<style scoped>\n",
              "    .dataframe tbody tr th:only-of-type {\n",
              "        vertical-align: middle;\n",
              "    }\n",
              "\n",
              "    .dataframe tbody tr th {\n",
              "        vertical-align: top;\n",
              "    }\n",
              "\n",
              "    .dataframe thead th {\n",
              "        text-align: right;\n",
              "    }\n",
              "</style>\n",
              "<table border=\"1\" class=\"dataframe\">\n",
              "  <thead>\n",
              "    <tr style=\"text-align: right;\">\n",
              "      <th></th>\n",
              "      <th>Name</th>\n",
              "      <th>Department</th>\n",
              "    </tr>\n",
              "  </thead>\n",
              "  <tbody>\n",
              "    <tr>\n",
              "      <th>Second</th>\n",
              "      <td>Suresh</td>\n",
              "      <td>IT</td>\n",
              "    </tr>\n",
              "    <tr>\n",
              "      <th>Third</th>\n",
              "      <td>Meet</td>\n",
              "      <td>EE</td>\n",
              "    </tr>\n",
              "  </tbody>\n",
              "</table>\n",
              "</div>"
            ],
            "text/plain": [
              "          Name Department\n",
              "Second  Suresh         IT\n",
              "Third     Meet         EE"
            ]
          },
          "metadata": {
            "tags": []
          },
          "execution_count": 27
        }
      ]
    },
    {
      "cell_type": "markdown",
      "metadata": {
        "id": "gxRCN-h1fXvG"
      },
      "source": [
        "**Conditional Selection (Boolean Arrays):**"
      ]
    },
    {
      "cell_type": "code",
      "metadata": {
        "id": "KYUH9IZCfWJw",
        "outputId": "e7fa906b-e74f-497b-f8f1-ea758e7ca366",
        "colab": {
          "base_uri": "https://localhost:8080/",
          "height": 197
        }
      },
      "source": [
        "df #Prints Dataframe"
      ],
      "execution_count": null,
      "outputs": [
        {
          "output_type": "execute_result",
          "data": {
            "text/html": [
              "<div>\n",
              "<style scoped>\n",
              "    .dataframe tbody tr th:only-of-type {\n",
              "        vertical-align: middle;\n",
              "    }\n",
              "\n",
              "    .dataframe tbody tr th {\n",
              "        vertical-align: top;\n",
              "    }\n",
              "\n",
              "    .dataframe thead th {\n",
              "        text-align: right;\n",
              "    }\n",
              "</style>\n",
              "<table border=\"1\" class=\"dataframe\">\n",
              "  <thead>\n",
              "    <tr style=\"text-align: right;\">\n",
              "      <th></th>\n",
              "      <th>Enrollment</th>\n",
              "      <th>Name</th>\n",
              "      <th>Department</th>\n",
              "      <th>CGPA</th>\n",
              "    </tr>\n",
              "  </thead>\n",
              "  <tbody>\n",
              "    <tr>\n",
              "      <th>First</th>\n",
              "      <td>1</td>\n",
              "      <td>Ramesh</td>\n",
              "      <td>CE</td>\n",
              "      <td>7.50</td>\n",
              "    </tr>\n",
              "    <tr>\n",
              "      <th>Second</th>\n",
              "      <td>2</td>\n",
              "      <td>Suresh</td>\n",
              "      <td>IT</td>\n",
              "      <td>8.10</td>\n",
              "    </tr>\n",
              "    <tr>\n",
              "      <th>Third</th>\n",
              "      <td>3</td>\n",
              "      <td>Meet</td>\n",
              "      <td>EE</td>\n",
              "      <td>9.33</td>\n",
              "    </tr>\n",
              "    <tr>\n",
              "      <th>Forth</th>\n",
              "      <td>4</td>\n",
              "      <td>Pratik</td>\n",
              "      <td>EC</td>\n",
              "      <td>6.56</td>\n",
              "    </tr>\n",
              "    <tr>\n",
              "      <th>Fifth</th>\n",
              "      <td>5</td>\n",
              "      <td>Rutvik</td>\n",
              "      <td>CI</td>\n",
              "      <td>8.55</td>\n",
              "    </tr>\n",
              "  </tbody>\n",
              "</table>\n",
              "</div>"
            ],
            "text/plain": [
              "        Enrollment    Name Department  CGPA\n",
              "First            1  Ramesh         CE  7.50\n",
              "Second           2  Suresh         IT  8.10\n",
              "Third            3    Meet         EE  9.33\n",
              "Forth            4  Pratik         EC  6.56\n",
              "Fifth            5  Rutvik         CI  8.55"
            ]
          },
          "metadata": {
            "tags": []
          },
          "execution_count": 28
        }
      ]
    },
    {
      "cell_type": "code",
      "metadata": {
        "id": "ZsIEaxwpfgDO",
        "outputId": "5cfd80e7-cc85-487e-81c0-03263aebd16c",
        "colab": {
          "base_uri": "https://localhost:8080/"
        }
      },
      "source": [
        "df['CGPA']>8  #Gives true if CGPA>8 (with index row only)"
      ],
      "execution_count": null,
      "outputs": [
        {
          "output_type": "execute_result",
          "data": {
            "text/plain": [
              "First     False\n",
              "Second     True\n",
              "Third      True\n",
              "Forth     False\n",
              "Fifth      True\n",
              "Name: CGPA, dtype: bool"
            ]
          },
          "metadata": {
            "tags": []
          },
          "execution_count": 29
        }
      ]
    },
    {
      "cell_type": "code",
      "metadata": {
        "id": "NiH-bwUjfnAd",
        "outputId": "fe7bf4b1-f75c-4efb-ddf0-850af70a5a86",
        "colab": {
          "base_uri": "https://localhost:8080/",
          "height": 137
        }
      },
      "source": [
        "df.loc[df['CGPA']>8] # Gives whole row"
      ],
      "execution_count": null,
      "outputs": [
        {
          "output_type": "execute_result",
          "data": {
            "text/html": [
              "<div>\n",
              "<style scoped>\n",
              "    .dataframe tbody tr th:only-of-type {\n",
              "        vertical-align: middle;\n",
              "    }\n",
              "\n",
              "    .dataframe tbody tr th {\n",
              "        vertical-align: top;\n",
              "    }\n",
              "\n",
              "    .dataframe thead th {\n",
              "        text-align: right;\n",
              "    }\n",
              "</style>\n",
              "<table border=\"1\" class=\"dataframe\">\n",
              "  <thead>\n",
              "    <tr style=\"text-align: right;\">\n",
              "      <th></th>\n",
              "      <th>Enrollment</th>\n",
              "      <th>Name</th>\n",
              "      <th>Department</th>\n",
              "      <th>CGPA</th>\n",
              "    </tr>\n",
              "  </thead>\n",
              "  <tbody>\n",
              "    <tr>\n",
              "      <th>Second</th>\n",
              "      <td>2</td>\n",
              "      <td>Suresh</td>\n",
              "      <td>IT</td>\n",
              "      <td>8.10</td>\n",
              "    </tr>\n",
              "    <tr>\n",
              "      <th>Third</th>\n",
              "      <td>3</td>\n",
              "      <td>Meet</td>\n",
              "      <td>EE</td>\n",
              "      <td>9.33</td>\n",
              "    </tr>\n",
              "    <tr>\n",
              "      <th>Fifth</th>\n",
              "      <td>5</td>\n",
              "      <td>Rutvik</td>\n",
              "      <td>CI</td>\n",
              "      <td>8.55</td>\n",
              "    </tr>\n",
              "  </tbody>\n",
              "</table>\n",
              "</div>"
            ],
            "text/plain": [
              "        Enrollment    Name Department  CGPA\n",
              "Second           2  Suresh         IT  8.10\n",
              "Third            3    Meet         EE  9.33\n",
              "Fifth            5  Rutvik         CI  8.55"
            ]
          },
          "metadata": {
            "tags": []
          },
          "execution_count": 30
        }
      ]
    },
    {
      "cell_type": "code",
      "metadata": {
        "id": "UBnHAPExftgw",
        "outputId": "9a0eb6f4-87a0-49ed-d341-9b77d5965bd7",
        "colab": {
          "base_uri": "https://localhost:8080/",
          "height": 137
        }
      },
      "source": [
        "df.loc[df['CGPA']>8, ['Name']] # Same condition with one column only"
      ],
      "execution_count": null,
      "outputs": [
        {
          "output_type": "execute_result",
          "data": {
            "text/html": [
              "<div>\n",
              "<style scoped>\n",
              "    .dataframe tbody tr th:only-of-type {\n",
              "        vertical-align: middle;\n",
              "    }\n",
              "\n",
              "    .dataframe tbody tr th {\n",
              "        vertical-align: top;\n",
              "    }\n",
              "\n",
              "    .dataframe thead th {\n",
              "        text-align: right;\n",
              "    }\n",
              "</style>\n",
              "<table border=\"1\" class=\"dataframe\">\n",
              "  <thead>\n",
              "    <tr style=\"text-align: right;\">\n",
              "      <th></th>\n",
              "      <th>Name</th>\n",
              "    </tr>\n",
              "  </thead>\n",
              "  <tbody>\n",
              "    <tr>\n",
              "      <th>Second</th>\n",
              "      <td>Suresh</td>\n",
              "    </tr>\n",
              "    <tr>\n",
              "      <th>Third</th>\n",
              "      <td>Meet</td>\n",
              "    </tr>\n",
              "    <tr>\n",
              "      <th>Fifth</th>\n",
              "      <td>Rutvik</td>\n",
              "    </tr>\n",
              "  </tbody>\n",
              "</table>\n",
              "</div>"
            ],
            "text/plain": [
              "          Name\n",
              "Second  Suresh\n",
              "Third     Meet\n",
              "Fifth   Rutvik"
            ]
          },
          "metadata": {
            "tags": []
          },
          "execution_count": 31
        }
      ]
    },
    {
      "cell_type": "code",
      "metadata": {
        "id": "op_0qsBggCbt",
        "outputId": "2a60b3da-7660-4a30-a018-de334f7f2aa7",
        "colab": {
          "base_uri": "https://localhost:8080/",
          "height": 137
        }
      },
      "source": [
        "df.loc[df['CGPA']>8,['Name','CGPA']] # with two columns"
      ],
      "execution_count": null,
      "outputs": [
        {
          "output_type": "execute_result",
          "data": {
            "text/html": [
              "<div>\n",
              "<style scoped>\n",
              "    .dataframe tbody tr th:only-of-type {\n",
              "        vertical-align: middle;\n",
              "    }\n",
              "\n",
              "    .dataframe tbody tr th {\n",
              "        vertical-align: top;\n",
              "    }\n",
              "\n",
              "    .dataframe thead th {\n",
              "        text-align: right;\n",
              "    }\n",
              "</style>\n",
              "<table border=\"1\" class=\"dataframe\">\n",
              "  <thead>\n",
              "    <tr style=\"text-align: right;\">\n",
              "      <th></th>\n",
              "      <th>Name</th>\n",
              "      <th>CGPA</th>\n",
              "    </tr>\n",
              "  </thead>\n",
              "  <tbody>\n",
              "    <tr>\n",
              "      <th>Second</th>\n",
              "      <td>Suresh</td>\n",
              "      <td>8.10</td>\n",
              "    </tr>\n",
              "    <tr>\n",
              "      <th>Third</th>\n",
              "      <td>Meet</td>\n",
              "      <td>9.33</td>\n",
              "    </tr>\n",
              "    <tr>\n",
              "      <th>Fifth</th>\n",
              "      <td>Rutvik</td>\n",
              "      <td>8.55</td>\n",
              "    </tr>\n",
              "  </tbody>\n",
              "</table>\n",
              "</div>"
            ],
            "text/plain": [
              "          Name  CGPA\n",
              "Second  Suresh  8.10\n",
              "Third     Meet  9.33\n",
              "Fifth   Rutvik  8.55"
            ]
          },
          "metadata": {
            "tags": []
          },
          "execution_count": 32
        }
      ]
    },
    {
      "cell_type": "markdown",
      "metadata": {
        "id": "lL5AtPEvIzmI"
      },
      "source": [
        "**Dropping Stuff**"
      ]
    },
    {
      "cell_type": "code",
      "metadata": {
        "id": "ueJf9mWxI21y",
        "outputId": "cbfe956c-900d-49ca-d16b-327842319012",
        "colab": {
          "base_uri": "https://localhost:8080/",
          "height": 167
        }
      },
      "source": [
        "df.drop('Second') # row having 'Second' index"
      ],
      "execution_count": null,
      "outputs": [
        {
          "output_type": "execute_result",
          "data": {
            "text/html": [
              "<div>\n",
              "<style scoped>\n",
              "    .dataframe tbody tr th:only-of-type {\n",
              "        vertical-align: middle;\n",
              "    }\n",
              "\n",
              "    .dataframe tbody tr th {\n",
              "        vertical-align: top;\n",
              "    }\n",
              "\n",
              "    .dataframe thead th {\n",
              "        text-align: right;\n",
              "    }\n",
              "</style>\n",
              "<table border=\"1\" class=\"dataframe\">\n",
              "  <thead>\n",
              "    <tr style=\"text-align: right;\">\n",
              "      <th></th>\n",
              "      <th>Enrollment</th>\n",
              "      <th>Name</th>\n",
              "      <th>Department</th>\n",
              "      <th>CGPA</th>\n",
              "    </tr>\n",
              "  </thead>\n",
              "  <tbody>\n",
              "    <tr>\n",
              "      <th>First</th>\n",
              "      <td>1</td>\n",
              "      <td>Ramesh</td>\n",
              "      <td>CE</td>\n",
              "      <td>7.50</td>\n",
              "    </tr>\n",
              "    <tr>\n",
              "      <th>Third</th>\n",
              "      <td>3</td>\n",
              "      <td>Meet</td>\n",
              "      <td>EE</td>\n",
              "      <td>9.33</td>\n",
              "    </tr>\n",
              "    <tr>\n",
              "      <th>Forth</th>\n",
              "      <td>4</td>\n",
              "      <td>Pratik</td>\n",
              "      <td>EC</td>\n",
              "      <td>6.56</td>\n",
              "    </tr>\n",
              "    <tr>\n",
              "      <th>Fifth</th>\n",
              "      <td>5</td>\n",
              "      <td>Rutvik</td>\n",
              "      <td>CI</td>\n",
              "      <td>8.55</td>\n",
              "    </tr>\n",
              "  </tbody>\n",
              "</table>\n",
              "</div>"
            ],
            "text/plain": [
              "       Enrollment    Name Department  CGPA\n",
              "First           1  Ramesh         CE  7.50\n",
              "Third           3    Meet         EE  9.33\n",
              "Forth           4  Pratik         EC  6.56\n",
              "Fifth           5  Rutvik         CI  8.55"
            ]
          },
          "metadata": {
            "tags": []
          },
          "execution_count": 33
        }
      ]
    },
    {
      "cell_type": "code",
      "metadata": {
        "id": "yCrrS0b1JBaS",
        "outputId": "46a89404-d8fc-440b-a9d5-8da2ba5676ac",
        "colab": {
          "base_uri": "https://localhost:8080/",
          "height": 137
        }
      },
      "source": [
        "df.drop(['Second','Third']) # 2 rows"
      ],
      "execution_count": null,
      "outputs": [
        {
          "output_type": "execute_result",
          "data": {
            "text/html": [
              "<div>\n",
              "<style scoped>\n",
              "    .dataframe tbody tr th:only-of-type {\n",
              "        vertical-align: middle;\n",
              "    }\n",
              "\n",
              "    .dataframe tbody tr th {\n",
              "        vertical-align: top;\n",
              "    }\n",
              "\n",
              "    .dataframe thead th {\n",
              "        text-align: right;\n",
              "    }\n",
              "</style>\n",
              "<table border=\"1\" class=\"dataframe\">\n",
              "  <thead>\n",
              "    <tr style=\"text-align: right;\">\n",
              "      <th></th>\n",
              "      <th>Enrollment</th>\n",
              "      <th>Name</th>\n",
              "      <th>Department</th>\n",
              "      <th>CGPA</th>\n",
              "    </tr>\n",
              "  </thead>\n",
              "  <tbody>\n",
              "    <tr>\n",
              "      <th>First</th>\n",
              "      <td>1</td>\n",
              "      <td>Ramesh</td>\n",
              "      <td>CE</td>\n",
              "      <td>7.50</td>\n",
              "    </tr>\n",
              "    <tr>\n",
              "      <th>Forth</th>\n",
              "      <td>4</td>\n",
              "      <td>Pratik</td>\n",
              "      <td>EC</td>\n",
              "      <td>6.56</td>\n",
              "    </tr>\n",
              "    <tr>\n",
              "      <th>Fifth</th>\n",
              "      <td>5</td>\n",
              "      <td>Rutvik</td>\n",
              "      <td>CI</td>\n",
              "      <td>8.55</td>\n",
              "    </tr>\n",
              "  </tbody>\n",
              "</table>\n",
              "</div>"
            ],
            "text/plain": [
              "       Enrollment    Name Department  CGPA\n",
              "First           1  Ramesh         CE  7.50\n",
              "Forth           4  Pratik         EC  6.56\n",
              "Fifth           5  Rutvik         CI  8.55"
            ]
          },
          "metadata": {
            "tags": []
          },
          "execution_count": 34
        }
      ]
    },
    {
      "cell_type": "code",
      "metadata": {
        "id": "fMiKvI-RJJO0",
        "outputId": "1b9567c0-2906-4bec-9d98-a75dc14dcfbd",
        "colab": {
          "base_uri": "https://localhost:8080/",
          "height": 197
        }
      },
      "source": [
        "df.drop(columns = ['Department','Enrollment']) # 2 columns"
      ],
      "execution_count": null,
      "outputs": [
        {
          "output_type": "execute_result",
          "data": {
            "text/html": [
              "<div>\n",
              "<style scoped>\n",
              "    .dataframe tbody tr th:only-of-type {\n",
              "        vertical-align: middle;\n",
              "    }\n",
              "\n",
              "    .dataframe tbody tr th {\n",
              "        vertical-align: top;\n",
              "    }\n",
              "\n",
              "    .dataframe thead th {\n",
              "        text-align: right;\n",
              "    }\n",
              "</style>\n",
              "<table border=\"1\" class=\"dataframe\">\n",
              "  <thead>\n",
              "    <tr style=\"text-align: right;\">\n",
              "      <th></th>\n",
              "      <th>Name</th>\n",
              "      <th>CGPA</th>\n",
              "    </tr>\n",
              "  </thead>\n",
              "  <tbody>\n",
              "    <tr>\n",
              "      <th>First</th>\n",
              "      <td>Ramesh</td>\n",
              "      <td>7.50</td>\n",
              "    </tr>\n",
              "    <tr>\n",
              "      <th>Second</th>\n",
              "      <td>Suresh</td>\n",
              "      <td>8.10</td>\n",
              "    </tr>\n",
              "    <tr>\n",
              "      <th>Third</th>\n",
              "      <td>Meet</td>\n",
              "      <td>9.33</td>\n",
              "    </tr>\n",
              "    <tr>\n",
              "      <th>Forth</th>\n",
              "      <td>Pratik</td>\n",
              "      <td>6.56</td>\n",
              "    </tr>\n",
              "    <tr>\n",
              "      <th>Fifth</th>\n",
              "      <td>Rutvik</td>\n",
              "      <td>8.55</td>\n",
              "    </tr>\n",
              "  </tbody>\n",
              "</table>\n",
              "</div>"
            ],
            "text/plain": [
              "          Name  CGPA\n",
              "First   Ramesh  7.50\n",
              "Second  Suresh  8.10\n",
              "Third     Meet  9.33\n",
              "Forth   Pratik  6.56\n",
              "Fifth   Rutvik  8.55"
            ]
          },
          "metadata": {
            "tags": []
          },
          "execution_count": 35
        }
      ]
    },
    {
      "cell_type": "code",
      "metadata": {
        "id": "t8eP4SQQJQvu",
        "outputId": "93bc2568-83d2-4cb0-8fa9-b5797756c396",
        "colab": {
          "base_uri": "https://localhost:8080/",
          "height": 137
        }
      },
      "source": [
        "df.drop(['First','Second'],axis = 0) #means row-wise.(By default axis is already 0. It is not needed to write) "
      ],
      "execution_count": null,
      "outputs": [
        {
          "output_type": "execute_result",
          "data": {
            "text/html": [
              "<div>\n",
              "<style scoped>\n",
              "    .dataframe tbody tr th:only-of-type {\n",
              "        vertical-align: middle;\n",
              "    }\n",
              "\n",
              "    .dataframe tbody tr th {\n",
              "        vertical-align: top;\n",
              "    }\n",
              "\n",
              "    .dataframe thead th {\n",
              "        text-align: right;\n",
              "    }\n",
              "</style>\n",
              "<table border=\"1\" class=\"dataframe\">\n",
              "  <thead>\n",
              "    <tr style=\"text-align: right;\">\n",
              "      <th></th>\n",
              "      <th>Enrollment</th>\n",
              "      <th>Name</th>\n",
              "      <th>Department</th>\n",
              "      <th>CGPA</th>\n",
              "    </tr>\n",
              "  </thead>\n",
              "  <tbody>\n",
              "    <tr>\n",
              "      <th>Third</th>\n",
              "      <td>3</td>\n",
              "      <td>Meet</td>\n",
              "      <td>EE</td>\n",
              "      <td>9.33</td>\n",
              "    </tr>\n",
              "    <tr>\n",
              "      <th>Forth</th>\n",
              "      <td>4</td>\n",
              "      <td>Pratik</td>\n",
              "      <td>EC</td>\n",
              "      <td>6.56</td>\n",
              "    </tr>\n",
              "    <tr>\n",
              "      <th>Fifth</th>\n",
              "      <td>5</td>\n",
              "      <td>Rutvik</td>\n",
              "      <td>CI</td>\n",
              "      <td>8.55</td>\n",
              "    </tr>\n",
              "  </tbody>\n",
              "</table>\n",
              "</div>"
            ],
            "text/plain": [
              "       Enrollment    Name Department  CGPA\n",
              "Third           3    Meet         EE  9.33\n",
              "Forth           4  Pratik         EC  6.56\n",
              "Fifth           5  Rutvik         CI  8.55"
            ]
          },
          "metadata": {
            "tags": []
          },
          "execution_count": 36
        }
      ]
    },
    {
      "cell_type": "code",
      "metadata": {
        "id": "JbRe8MG5JnH_",
        "outputId": "58d02cd9-5d9d-4370-df35-172569859dd3",
        "colab": {
          "base_uri": "https://localhost:8080/",
          "height": 197
        }
      },
      "source": [
        "df.drop(['Department','Enrollment'],axis = 1) # We removed columns and added axis = 1"
      ],
      "execution_count": null,
      "outputs": [
        {
          "output_type": "execute_result",
          "data": {
            "text/html": [
              "<div>\n",
              "<style scoped>\n",
              "    .dataframe tbody tr th:only-of-type {\n",
              "        vertical-align: middle;\n",
              "    }\n",
              "\n",
              "    .dataframe tbody tr th {\n",
              "        vertical-align: top;\n",
              "    }\n",
              "\n",
              "    .dataframe thead th {\n",
              "        text-align: right;\n",
              "    }\n",
              "</style>\n",
              "<table border=\"1\" class=\"dataframe\">\n",
              "  <thead>\n",
              "    <tr style=\"text-align: right;\">\n",
              "      <th></th>\n",
              "      <th>Name</th>\n",
              "      <th>CGPA</th>\n",
              "    </tr>\n",
              "  </thead>\n",
              "  <tbody>\n",
              "    <tr>\n",
              "      <th>First</th>\n",
              "      <td>Ramesh</td>\n",
              "      <td>7.50</td>\n",
              "    </tr>\n",
              "    <tr>\n",
              "      <th>Second</th>\n",
              "      <td>Suresh</td>\n",
              "      <td>8.10</td>\n",
              "    </tr>\n",
              "    <tr>\n",
              "      <th>Third</th>\n",
              "      <td>Meet</td>\n",
              "      <td>9.33</td>\n",
              "    </tr>\n",
              "    <tr>\n",
              "      <th>Forth</th>\n",
              "      <td>Pratik</td>\n",
              "      <td>6.56</td>\n",
              "    </tr>\n",
              "    <tr>\n",
              "      <th>Fifth</th>\n",
              "      <td>Rutvik</td>\n",
              "      <td>8.55</td>\n",
              "    </tr>\n",
              "  </tbody>\n",
              "</table>\n",
              "</div>"
            ],
            "text/plain": [
              "          Name  CGPA\n",
              "First   Ramesh  7.50\n",
              "Second  Suresh  8.10\n",
              "Third     Meet  9.33\n",
              "Forth   Pratik  6.56\n",
              "Fifth   Rutvik  8.55"
            ]
          },
          "metadata": {
            "tags": []
          },
          "execution_count": 37
        }
      ]
    },
    {
      "cell_type": "code",
      "metadata": {
        "id": "4z98UM1KJwb2",
        "outputId": "bd5fe272-7329-4838-80be-a34d012d1a82",
        "colab": {
          "base_uri": "https://localhost:8080/",
          "height": 137
        }
      },
      "source": [
        "df.drop(['First','Second'], axis = 'rows') # alternative to axis = 0"
      ],
      "execution_count": null,
      "outputs": [
        {
          "output_type": "execute_result",
          "data": {
            "text/html": [
              "<div>\n",
              "<style scoped>\n",
              "    .dataframe tbody tr th:only-of-type {\n",
              "        vertical-align: middle;\n",
              "    }\n",
              "\n",
              "    .dataframe tbody tr th {\n",
              "        vertical-align: top;\n",
              "    }\n",
              "\n",
              "    .dataframe thead th {\n",
              "        text-align: right;\n",
              "    }\n",
              "</style>\n",
              "<table border=\"1\" class=\"dataframe\">\n",
              "  <thead>\n",
              "    <tr style=\"text-align: right;\">\n",
              "      <th></th>\n",
              "      <th>Enrollment</th>\n",
              "      <th>Name</th>\n",
              "      <th>Department</th>\n",
              "      <th>CGPA</th>\n",
              "    </tr>\n",
              "  </thead>\n",
              "  <tbody>\n",
              "    <tr>\n",
              "      <th>Third</th>\n",
              "      <td>3</td>\n",
              "      <td>Meet</td>\n",
              "      <td>EE</td>\n",
              "      <td>9.33</td>\n",
              "    </tr>\n",
              "    <tr>\n",
              "      <th>Forth</th>\n",
              "      <td>4</td>\n",
              "      <td>Pratik</td>\n",
              "      <td>EC</td>\n",
              "      <td>6.56</td>\n",
              "    </tr>\n",
              "    <tr>\n",
              "      <th>Fifth</th>\n",
              "      <td>5</td>\n",
              "      <td>Rutvik</td>\n",
              "      <td>CI</td>\n",
              "      <td>8.55</td>\n",
              "    </tr>\n",
              "  </tbody>\n",
              "</table>\n",
              "</div>"
            ],
            "text/plain": [
              "       Enrollment    Name Department  CGPA\n",
              "Third           3    Meet         EE  9.33\n",
              "Forth           4  Pratik         EC  6.56\n",
              "Fifth           5  Rutvik         CI  8.55"
            ]
          },
          "metadata": {
            "tags": []
          },
          "execution_count": 38
        }
      ]
    },
    {
      "cell_type": "code",
      "metadata": {
        "id": "a5k491xTJ7XM",
        "outputId": "bad40b7f-246f-4405-c9f3-134d6eb7edf0",
        "colab": {
          "base_uri": "https://localhost:8080/",
          "height": 197
        }
      },
      "source": [
        "df.drop(['Department','Enrollment'], axis = 'columns') # same as axis = 1"
      ],
      "execution_count": null,
      "outputs": [
        {
          "output_type": "execute_result",
          "data": {
            "text/html": [
              "<div>\n",
              "<style scoped>\n",
              "    .dataframe tbody tr th:only-of-type {\n",
              "        vertical-align: middle;\n",
              "    }\n",
              "\n",
              "    .dataframe tbody tr th {\n",
              "        vertical-align: top;\n",
              "    }\n",
              "\n",
              "    .dataframe thead th {\n",
              "        text-align: right;\n",
              "    }\n",
              "</style>\n",
              "<table border=\"1\" class=\"dataframe\">\n",
              "  <thead>\n",
              "    <tr style=\"text-align: right;\">\n",
              "      <th></th>\n",
              "      <th>Name</th>\n",
              "      <th>CGPA</th>\n",
              "    </tr>\n",
              "  </thead>\n",
              "  <tbody>\n",
              "    <tr>\n",
              "      <th>First</th>\n",
              "      <td>Ramesh</td>\n",
              "      <td>7.50</td>\n",
              "    </tr>\n",
              "    <tr>\n",
              "      <th>Second</th>\n",
              "      <td>Suresh</td>\n",
              "      <td>8.10</td>\n",
              "    </tr>\n",
              "    <tr>\n",
              "      <th>Third</th>\n",
              "      <td>Meet</td>\n",
              "      <td>9.33</td>\n",
              "    </tr>\n",
              "    <tr>\n",
              "      <th>Forth</th>\n",
              "      <td>Pratik</td>\n",
              "      <td>6.56</td>\n",
              "    </tr>\n",
              "    <tr>\n",
              "      <th>Fifth</th>\n",
              "      <td>Rutvik</td>\n",
              "      <td>8.55</td>\n",
              "    </tr>\n",
              "  </tbody>\n",
              "</table>\n",
              "</div>"
            ],
            "text/plain": [
              "          Name  CGPA\n",
              "First   Ramesh  7.50\n",
              "Second  Suresh  8.10\n",
              "Third     Meet  9.33\n",
              "Forth   Pratik  6.56\n",
              "Fifth   Rutvik  8.55"
            ]
          },
          "metadata": {
            "tags": []
          },
          "execution_count": 39
        }
      ]
    },
    {
      "cell_type": "markdown",
      "metadata": {
        "id": "-rrQtuikKLrx"
      },
      "source": [
        "**Operations**"
      ]
    },
    {
      "cell_type": "code",
      "metadata": {
        "id": "Vt2SU8nDKPPf",
        "outputId": "b2ce6d6d-8370-45e4-88a9-203545d53b52",
        "colab": {
          "base_uri": "https://localhost:8080/",
          "height": 197
        }
      },
      "source": [
        "df[['Enrollment','Department']] # Two columns"
      ],
      "execution_count": null,
      "outputs": [
        {
          "output_type": "execute_result",
          "data": {
            "text/html": [
              "<div>\n",
              "<style scoped>\n",
              "    .dataframe tbody tr th:only-of-type {\n",
              "        vertical-align: middle;\n",
              "    }\n",
              "\n",
              "    .dataframe tbody tr th {\n",
              "        vertical-align: top;\n",
              "    }\n",
              "\n",
              "    .dataframe thead th {\n",
              "        text-align: right;\n",
              "    }\n",
              "</style>\n",
              "<table border=\"1\" class=\"dataframe\">\n",
              "  <thead>\n",
              "    <tr style=\"text-align: right;\">\n",
              "      <th></th>\n",
              "      <th>Enrollment</th>\n",
              "      <th>Department</th>\n",
              "    </tr>\n",
              "  </thead>\n",
              "  <tbody>\n",
              "    <tr>\n",
              "      <th>First</th>\n",
              "      <td>1</td>\n",
              "      <td>CE</td>\n",
              "    </tr>\n",
              "    <tr>\n",
              "      <th>Second</th>\n",
              "      <td>2</td>\n",
              "      <td>IT</td>\n",
              "    </tr>\n",
              "    <tr>\n",
              "      <th>Third</th>\n",
              "      <td>3</td>\n",
              "      <td>EE</td>\n",
              "    </tr>\n",
              "    <tr>\n",
              "      <th>Forth</th>\n",
              "      <td>4</td>\n",
              "      <td>EC</td>\n",
              "    </tr>\n",
              "    <tr>\n",
              "      <th>Fifth</th>\n",
              "      <td>5</td>\n",
              "      <td>CI</td>\n",
              "    </tr>\n",
              "  </tbody>\n",
              "</table>\n",
              "</div>"
            ],
            "text/plain": [
              "        Enrollment Department\n",
              "First            1         CE\n",
              "Second           2         IT\n",
              "Third            3         EE\n",
              "Forth            4         EC\n",
              "Fifth            5         CI"
            ]
          },
          "metadata": {
            "tags": []
          },
          "execution_count": 40
        }
      ]
    },
    {
      "cell_type": "code",
      "metadata": {
        "id": "iMWkIo5TKVLe",
        "outputId": "f3c80bf0-cd0e-48f6-adc4-9febe981b1b2",
        "colab": {
          "base_uri": "https://localhost:8080/"
        }
      },
      "source": [
        "df['CGPA']*10  # Multiplication of column"
      ],
      "execution_count": null,
      "outputs": [
        {
          "output_type": "execute_result",
          "data": {
            "text/plain": [
              "First     75.0\n",
              "Second    81.0\n",
              "Third     93.3\n",
              "Forth     65.6\n",
              "Fifth     85.5\n",
              "Name: CGPA, dtype: float64"
            ]
          },
          "metadata": {
            "tags": []
          },
          "execution_count": 41
        }
      ]
    },
    {
      "cell_type": "code",
      "metadata": {
        "id": "QqtQ4CXxKeME",
        "outputId": "c2960b3e-5270-456a-8634-5a75eb7e248b",
        "colab": {
          "base_uri": "https://localhost:8080/"
        }
      },
      "source": [
        "crisis = pd.Series([4.5],index= ['CGPA'])  # New series\n",
        "crisis"
      ],
      "execution_count": null,
      "outputs": [
        {
          "output_type": "execute_result",
          "data": {
            "text/plain": [
              "CGPA    4.5\n",
              "dtype: float64"
            ]
          },
          "metadata": {
            "tags": []
          },
          "execution_count": 42
        }
      ]
    },
    {
      "cell_type": "markdown",
      "metadata": {
        "id": "kgMg0QyvSnme"
      },
      "source": [
        "**Modifying dataframes**"
      ]
    },
    {
      "cell_type": "code",
      "metadata": {
        "id": "OBV-ylcSStoT",
        "outputId": "c5b4a2de-36de-4412-8056-e6d4b2b7bb71",
        "colab": {
          "base_uri": "https://localhost:8080/",
          "height": 197
        }
      },
      "source": [
        "# Adding a new column\n",
        "\n",
        "points = pd.Series([70,88,49,71,63],name='Points')\n",
        "\n",
        "df['Points'] = points.values\n",
        "\n",
        "df"
      ],
      "execution_count": null,
      "outputs": [
        {
          "output_type": "execute_result",
          "data": {
            "text/html": [
              "<div>\n",
              "<style scoped>\n",
              "    .dataframe tbody tr th:only-of-type {\n",
              "        vertical-align: middle;\n",
              "    }\n",
              "\n",
              "    .dataframe tbody tr th {\n",
              "        vertical-align: top;\n",
              "    }\n",
              "\n",
              "    .dataframe thead th {\n",
              "        text-align: right;\n",
              "    }\n",
              "</style>\n",
              "<table border=\"1\" class=\"dataframe\">\n",
              "  <thead>\n",
              "    <tr style=\"text-align: right;\">\n",
              "      <th></th>\n",
              "      <th>Enrollment</th>\n",
              "      <th>Name</th>\n",
              "      <th>Department</th>\n",
              "      <th>CGPA</th>\n",
              "      <th>Points</th>\n",
              "    </tr>\n",
              "  </thead>\n",
              "  <tbody>\n",
              "    <tr>\n",
              "      <th>First</th>\n",
              "      <td>1</td>\n",
              "      <td>Ramesh</td>\n",
              "      <td>CE</td>\n",
              "      <td>7.50</td>\n",
              "      <td>70</td>\n",
              "    </tr>\n",
              "    <tr>\n",
              "      <th>Second</th>\n",
              "      <td>2</td>\n",
              "      <td>Suresh</td>\n",
              "      <td>IT</td>\n",
              "      <td>8.10</td>\n",
              "      <td>88</td>\n",
              "    </tr>\n",
              "    <tr>\n",
              "      <th>Third</th>\n",
              "      <td>3</td>\n",
              "      <td>Meet</td>\n",
              "      <td>EE</td>\n",
              "      <td>9.33</td>\n",
              "      <td>49</td>\n",
              "    </tr>\n",
              "    <tr>\n",
              "      <th>Forth</th>\n",
              "      <td>4</td>\n",
              "      <td>Pratik</td>\n",
              "      <td>EC</td>\n",
              "      <td>6.56</td>\n",
              "      <td>71</td>\n",
              "    </tr>\n",
              "    <tr>\n",
              "      <th>Fifth</th>\n",
              "      <td>5</td>\n",
              "      <td>Rutvik</td>\n",
              "      <td>CI</td>\n",
              "      <td>8.55</td>\n",
              "      <td>63</td>\n",
              "    </tr>\n",
              "  </tbody>\n",
              "</table>\n",
              "</div>"
            ],
            "text/plain": [
              "        Enrollment    Name Department  CGPA  Points\n",
              "First            1  Ramesh         CE  7.50      70\n",
              "Second           2  Suresh         IT  8.10      88\n",
              "Third            3    Meet         EE  9.33      49\n",
              "Forth            4  Pratik         EC  6.56      71\n",
              "Fifth            5  Rutvik         CI  8.55      63"
            ]
          },
          "metadata": {
            "tags": []
          },
          "execution_count": 43
        }
      ]
    },
    {
      "cell_type": "code",
      "metadata": {
        "id": "-_BEJNh0TKGQ",
        "outputId": "58111a7e-cfa0-4fc0-d1e7-97bfa2e622de",
        "colab": {
          "base_uri": "https://localhost:8080/",
          "height": 197
        }
      },
      "source": [
        "# New column with same values\n",
        "\n",
        "df['Language'] = 'English'\n",
        "\n",
        "df"
      ],
      "execution_count": null,
      "outputs": [
        {
          "output_type": "execute_result",
          "data": {
            "text/html": [
              "<div>\n",
              "<style scoped>\n",
              "    .dataframe tbody tr th:only-of-type {\n",
              "        vertical-align: middle;\n",
              "    }\n",
              "\n",
              "    .dataframe tbody tr th {\n",
              "        vertical-align: top;\n",
              "    }\n",
              "\n",
              "    .dataframe thead th {\n",
              "        text-align: right;\n",
              "    }\n",
              "</style>\n",
              "<table border=\"1\" class=\"dataframe\">\n",
              "  <thead>\n",
              "    <tr style=\"text-align: right;\">\n",
              "      <th></th>\n",
              "      <th>Enrollment</th>\n",
              "      <th>Name</th>\n",
              "      <th>Department</th>\n",
              "      <th>CGPA</th>\n",
              "      <th>Points</th>\n",
              "      <th>Language</th>\n",
              "    </tr>\n",
              "  </thead>\n",
              "  <tbody>\n",
              "    <tr>\n",
              "      <th>First</th>\n",
              "      <td>1</td>\n",
              "      <td>Ramesh</td>\n",
              "      <td>CE</td>\n",
              "      <td>7.50</td>\n",
              "      <td>70</td>\n",
              "      <td>English</td>\n",
              "    </tr>\n",
              "    <tr>\n",
              "      <th>Second</th>\n",
              "      <td>2</td>\n",
              "      <td>Suresh</td>\n",
              "      <td>IT</td>\n",
              "      <td>8.10</td>\n",
              "      <td>88</td>\n",
              "      <td>English</td>\n",
              "    </tr>\n",
              "    <tr>\n",
              "      <th>Third</th>\n",
              "      <td>3</td>\n",
              "      <td>Meet</td>\n",
              "      <td>EE</td>\n",
              "      <td>9.33</td>\n",
              "      <td>49</td>\n",
              "      <td>English</td>\n",
              "    </tr>\n",
              "    <tr>\n",
              "      <th>Forth</th>\n",
              "      <td>4</td>\n",
              "      <td>Pratik</td>\n",
              "      <td>EC</td>\n",
              "      <td>6.56</td>\n",
              "      <td>71</td>\n",
              "      <td>English</td>\n",
              "    </tr>\n",
              "    <tr>\n",
              "      <th>Fifth</th>\n",
              "      <td>5</td>\n",
              "      <td>Rutvik</td>\n",
              "      <td>CI</td>\n",
              "      <td>8.55</td>\n",
              "      <td>63</td>\n",
              "      <td>English</td>\n",
              "    </tr>\n",
              "  </tbody>\n",
              "</table>\n",
              "</div>"
            ],
            "text/plain": [
              "        Enrollment    Name Department  CGPA  Points Language\n",
              "First            1  Ramesh         CE  7.50      70  English\n",
              "Second           2  Suresh         IT  8.10      88  English\n",
              "Third            3    Meet         EE  9.33      49  English\n",
              "Forth            4  Pratik         EC  6.56      71  English\n",
              "Fifth            5  Rutvik         CI  8.55      63  English"
            ]
          },
          "metadata": {
            "tags": []
          },
          "execution_count": 44
        }
      ]
    },
    {
      "cell_type": "code",
      "metadata": {
        "id": "cx8zcyl9TdxJ",
        "outputId": "da87de44-8b56-4e5a-953d-d18814e096f5",
        "colab": {
          "base_uri": "https://localhost:8080/",
          "height": 197
        }
      },
      "source": [
        "# Renaming columns\n",
        "\n",
        "df.rename(\n",
        "    columns = {'Name':'Full Name',\n",
        "               'Enrollment':'Number'},\n",
        "    \n",
        "    index = {'First':'01',\n",
        "             'Second':'02',\n",
        "             'Third':'03',\n",
        "             'Forth':'04',\n",
        "             'Fifth':'05'}) # This will not modify original dataframe\n"
      ],
      "execution_count": null,
      "outputs": [
        {
          "output_type": "execute_result",
          "data": {
            "text/html": [
              "<div>\n",
              "<style scoped>\n",
              "    .dataframe tbody tr th:only-of-type {\n",
              "        vertical-align: middle;\n",
              "    }\n",
              "\n",
              "    .dataframe tbody tr th {\n",
              "        vertical-align: top;\n",
              "    }\n",
              "\n",
              "    .dataframe thead th {\n",
              "        text-align: right;\n",
              "    }\n",
              "</style>\n",
              "<table border=\"1\" class=\"dataframe\">\n",
              "  <thead>\n",
              "    <tr style=\"text-align: right;\">\n",
              "      <th></th>\n",
              "      <th>Number</th>\n",
              "      <th>Full Name</th>\n",
              "      <th>Department</th>\n",
              "      <th>CGPA</th>\n",
              "      <th>Points</th>\n",
              "      <th>Language</th>\n",
              "    </tr>\n",
              "  </thead>\n",
              "  <tbody>\n",
              "    <tr>\n",
              "      <th>01</th>\n",
              "      <td>1</td>\n",
              "      <td>Ramesh</td>\n",
              "      <td>CE</td>\n",
              "      <td>7.50</td>\n",
              "      <td>70</td>\n",
              "      <td>English</td>\n",
              "    </tr>\n",
              "    <tr>\n",
              "      <th>02</th>\n",
              "      <td>2</td>\n",
              "      <td>Suresh</td>\n",
              "      <td>IT</td>\n",
              "      <td>8.10</td>\n",
              "      <td>88</td>\n",
              "      <td>English</td>\n",
              "    </tr>\n",
              "    <tr>\n",
              "      <th>03</th>\n",
              "      <td>3</td>\n",
              "      <td>Meet</td>\n",
              "      <td>EE</td>\n",
              "      <td>9.33</td>\n",
              "      <td>49</td>\n",
              "      <td>English</td>\n",
              "    </tr>\n",
              "    <tr>\n",
              "      <th>04</th>\n",
              "      <td>4</td>\n",
              "      <td>Pratik</td>\n",
              "      <td>EC</td>\n",
              "      <td>6.56</td>\n",
              "      <td>71</td>\n",
              "      <td>English</td>\n",
              "    </tr>\n",
              "    <tr>\n",
              "      <th>05</th>\n",
              "      <td>5</td>\n",
              "      <td>Rutvik</td>\n",
              "      <td>CI</td>\n",
              "      <td>8.55</td>\n",
              "      <td>63</td>\n",
              "      <td>English</td>\n",
              "    </tr>\n",
              "  </tbody>\n",
              "</table>\n",
              "</div>"
            ],
            "text/plain": [
              "    Number Full Name Department  CGPA  Points Language\n",
              "01       1    Ramesh         CE  7.50      70  English\n",
              "02       2    Suresh         IT  8.10      88  English\n",
              "03       3      Meet         EE  9.33      49  English\n",
              "04       4    Pratik         EC  6.56      71  English\n",
              "05       5    Rutvik         CI  8.55      63  English"
            ]
          },
          "metadata": {
            "tags": []
          },
          "execution_count": 45
        }
      ]
    },
    {
      "cell_type": "code",
      "metadata": {
        "id": "DEd0jlYVUFwd",
        "outputId": "ed47f4ee-9c39-4e5c-abbc-1b8a6c16cccd",
        "colab": {
          "base_uri": "https://localhost:8080/",
          "height": 197
        }
      },
      "source": [
        "df.rename(index=str.upper) # Convert index Strings to upper"
      ],
      "execution_count": null,
      "outputs": [
        {
          "output_type": "execute_result",
          "data": {
            "text/html": [
              "<div>\n",
              "<style scoped>\n",
              "    .dataframe tbody tr th:only-of-type {\n",
              "        vertical-align: middle;\n",
              "    }\n",
              "\n",
              "    .dataframe tbody tr th {\n",
              "        vertical-align: top;\n",
              "    }\n",
              "\n",
              "    .dataframe thead th {\n",
              "        text-align: right;\n",
              "    }\n",
              "</style>\n",
              "<table border=\"1\" class=\"dataframe\">\n",
              "  <thead>\n",
              "    <tr style=\"text-align: right;\">\n",
              "      <th></th>\n",
              "      <th>Enrollment</th>\n",
              "      <th>Name</th>\n",
              "      <th>Department</th>\n",
              "      <th>CGPA</th>\n",
              "      <th>Points</th>\n",
              "      <th>Language</th>\n",
              "    </tr>\n",
              "  </thead>\n",
              "  <tbody>\n",
              "    <tr>\n",
              "      <th>FIRST</th>\n",
              "      <td>1</td>\n",
              "      <td>Ramesh</td>\n",
              "      <td>CE</td>\n",
              "      <td>7.50</td>\n",
              "      <td>70</td>\n",
              "      <td>English</td>\n",
              "    </tr>\n",
              "    <tr>\n",
              "      <th>SECOND</th>\n",
              "      <td>2</td>\n",
              "      <td>Suresh</td>\n",
              "      <td>IT</td>\n",
              "      <td>8.10</td>\n",
              "      <td>88</td>\n",
              "      <td>English</td>\n",
              "    </tr>\n",
              "    <tr>\n",
              "      <th>THIRD</th>\n",
              "      <td>3</td>\n",
              "      <td>Meet</td>\n",
              "      <td>EE</td>\n",
              "      <td>9.33</td>\n",
              "      <td>49</td>\n",
              "      <td>English</td>\n",
              "    </tr>\n",
              "    <tr>\n",
              "      <th>FORTH</th>\n",
              "      <td>4</td>\n",
              "      <td>Pratik</td>\n",
              "      <td>EC</td>\n",
              "      <td>6.56</td>\n",
              "      <td>71</td>\n",
              "      <td>English</td>\n",
              "    </tr>\n",
              "    <tr>\n",
              "      <th>FIFTH</th>\n",
              "      <td>5</td>\n",
              "      <td>Rutvik</td>\n",
              "      <td>CI</td>\n",
              "      <td>8.55</td>\n",
              "      <td>63</td>\n",
              "      <td>English</td>\n",
              "    </tr>\n",
              "  </tbody>\n",
              "</table>\n",
              "</div>"
            ],
            "text/plain": [
              "        Enrollment    Name Department  CGPA  Points Language\n",
              "FIRST            1  Ramesh         CE  7.50      70  English\n",
              "SECOND           2  Suresh         IT  8.10      88  English\n",
              "THIRD            3    Meet         EE  9.33      49  English\n",
              "FORTH            4  Pratik         EC  6.56      71  English\n",
              "FIFTH            5  Rutvik         CI  8.55      63  English"
            ]
          },
          "metadata": {
            "tags": []
          },
          "execution_count": 46
        }
      ]
    },
    {
      "cell_type": "code",
      "metadata": {
        "id": "-Cvyg1qMUyn8",
        "outputId": "e42cf47c-b0cb-4565-82da-ce906ace8cab",
        "colab": {
          "base_uri": "https://localhost:8080/",
          "height": 197
        }
      },
      "source": [
        "df.rename(index = lambda x:x.lower()) # Convert index string to lower using function"
      ],
      "execution_count": null,
      "outputs": [
        {
          "output_type": "execute_result",
          "data": {
            "text/html": [
              "<div>\n",
              "<style scoped>\n",
              "    .dataframe tbody tr th:only-of-type {\n",
              "        vertical-align: middle;\n",
              "    }\n",
              "\n",
              "    .dataframe tbody tr th {\n",
              "        vertical-align: top;\n",
              "    }\n",
              "\n",
              "    .dataframe thead th {\n",
              "        text-align: right;\n",
              "    }\n",
              "</style>\n",
              "<table border=\"1\" class=\"dataframe\">\n",
              "  <thead>\n",
              "    <tr style=\"text-align: right;\">\n",
              "      <th></th>\n",
              "      <th>Enrollment</th>\n",
              "      <th>Name</th>\n",
              "      <th>Department</th>\n",
              "      <th>CGPA</th>\n",
              "      <th>Points</th>\n",
              "      <th>Language</th>\n",
              "    </tr>\n",
              "  </thead>\n",
              "  <tbody>\n",
              "    <tr>\n",
              "      <th>first</th>\n",
              "      <td>1</td>\n",
              "      <td>Ramesh</td>\n",
              "      <td>CE</td>\n",
              "      <td>7.50</td>\n",
              "      <td>70</td>\n",
              "      <td>English</td>\n",
              "    </tr>\n",
              "    <tr>\n",
              "      <th>second</th>\n",
              "      <td>2</td>\n",
              "      <td>Suresh</td>\n",
              "      <td>IT</td>\n",
              "      <td>8.10</td>\n",
              "      <td>88</td>\n",
              "      <td>English</td>\n",
              "    </tr>\n",
              "    <tr>\n",
              "      <th>third</th>\n",
              "      <td>3</td>\n",
              "      <td>Meet</td>\n",
              "      <td>EE</td>\n",
              "      <td>9.33</td>\n",
              "      <td>49</td>\n",
              "      <td>English</td>\n",
              "    </tr>\n",
              "    <tr>\n",
              "      <th>forth</th>\n",
              "      <td>4</td>\n",
              "      <td>Pratik</td>\n",
              "      <td>EC</td>\n",
              "      <td>6.56</td>\n",
              "      <td>71</td>\n",
              "      <td>English</td>\n",
              "    </tr>\n",
              "    <tr>\n",
              "      <th>fifth</th>\n",
              "      <td>5</td>\n",
              "      <td>Rutvik</td>\n",
              "      <td>CI</td>\n",
              "      <td>8.55</td>\n",
              "      <td>63</td>\n",
              "      <td>English</td>\n",
              "    </tr>\n",
              "  </tbody>\n",
              "</table>\n",
              "</div>"
            ],
            "text/plain": [
              "        Enrollment    Name Department  CGPA  Points Language\n",
              "first            1  Ramesh         CE  7.50      70  English\n",
              "second           2  Suresh         IT  8.10      88  English\n",
              "third            3    Meet         EE  9.33      49  English\n",
              "forth            4  Pratik         EC  6.56      71  English\n",
              "fifth            5  Rutvik         CI  8.55      63  English"
            ]
          },
          "metadata": {
            "tags": []
          },
          "execution_count": 47
        }
      ]
    },
    {
      "cell_type": "markdown",
      "metadata": {
        "id": "T_N8H6LlVBGz"
      },
      "source": [
        "*Dropping Columns*"
      ]
    },
    {
      "cell_type": "code",
      "metadata": {
        "id": "QvcYdxRIVJxN"
      },
      "source": [
        "df.drop(columns = 'Enrollment', inplace = True) # will modify original data frame"
      ],
      "execution_count": null,
      "outputs": []
    },
    {
      "cell_type": "code",
      "metadata": {
        "id": "oCXRJNSjVv3L",
        "outputId": "47a867ec-7b1d-44f2-911b-f2120ad1eedc",
        "colab": {
          "base_uri": "https://localhost:8080/",
          "height": 197
        }
      },
      "source": [
        "df"
      ],
      "execution_count": null,
      "outputs": [
        {
          "output_type": "execute_result",
          "data": {
            "text/html": [
              "<div>\n",
              "<style scoped>\n",
              "    .dataframe tbody tr th:only-of-type {\n",
              "        vertical-align: middle;\n",
              "    }\n",
              "\n",
              "    .dataframe tbody tr th {\n",
              "        vertical-align: top;\n",
              "    }\n",
              "\n",
              "    .dataframe thead th {\n",
              "        text-align: right;\n",
              "    }\n",
              "</style>\n",
              "<table border=\"1\" class=\"dataframe\">\n",
              "  <thead>\n",
              "    <tr style=\"text-align: right;\">\n",
              "      <th></th>\n",
              "      <th>Name</th>\n",
              "      <th>Department</th>\n",
              "      <th>CGPA</th>\n",
              "      <th>Points</th>\n",
              "      <th>Language</th>\n",
              "    </tr>\n",
              "  </thead>\n",
              "  <tbody>\n",
              "    <tr>\n",
              "      <th>First</th>\n",
              "      <td>Ramesh</td>\n",
              "      <td>CE</td>\n",
              "      <td>7.50</td>\n",
              "      <td>70</td>\n",
              "      <td>English</td>\n",
              "    </tr>\n",
              "    <tr>\n",
              "      <th>Second</th>\n",
              "      <td>Suresh</td>\n",
              "      <td>IT</td>\n",
              "      <td>8.10</td>\n",
              "      <td>88</td>\n",
              "      <td>English</td>\n",
              "    </tr>\n",
              "    <tr>\n",
              "      <th>Third</th>\n",
              "      <td>Meet</td>\n",
              "      <td>EE</td>\n",
              "      <td>9.33</td>\n",
              "      <td>49</td>\n",
              "      <td>English</td>\n",
              "    </tr>\n",
              "    <tr>\n",
              "      <th>Forth</th>\n",
              "      <td>Pratik</td>\n",
              "      <td>EC</td>\n",
              "      <td>6.56</td>\n",
              "      <td>71</td>\n",
              "      <td>English</td>\n",
              "    </tr>\n",
              "    <tr>\n",
              "      <th>Fifth</th>\n",
              "      <td>Rutvik</td>\n",
              "      <td>CI</td>\n",
              "      <td>8.55</td>\n",
              "      <td>63</td>\n",
              "      <td>English</td>\n",
              "    </tr>\n",
              "  </tbody>\n",
              "</table>\n",
              "</div>"
            ],
            "text/plain": [
              "          Name Department  CGPA  Points Language\n",
              "First   Ramesh         CE  7.50      70  English\n",
              "Second  Suresh         IT  8.10      88  English\n",
              "Third     Meet         EE  9.33      49  English\n",
              "Forth   Pratik         EC  6.56      71  English\n",
              "Fifth   Rutvik         CI  8.55      63  English"
            ]
          },
          "metadata": {
            "tags": []
          },
          "execution_count": 49
        }
      ]
    },
    {
      "cell_type": "markdown",
      "metadata": {
        "id": "dee9BVduWRQ1"
      },
      "source": [
        "*Adding Values*"
      ]
    },
    {
      "cell_type": "code",
      "metadata": {
        "id": "5UWytunWW7UE",
        "outputId": "622f9b48-fad9-4b01-a6a3-fe14be906e48",
        "colab": {
          "base_uri": "https://localhost:8080/",
          "height": 227
        }
      },
      "source": [
        "df.append(pd.Series({'Name' : 'Parth',\n",
        "                     'Department' : 'ME',\n",
        "                     'CGPA':'9.2',\n",
        "                     'Language':'Hindi'},\n",
        "                    name= 'Sixth')) # will create another dataframe. [Not modifies original df]\n"
      ],
      "execution_count": null,
      "outputs": [
        {
          "output_type": "execute_result",
          "data": {
            "text/html": [
              "<div>\n",
              "<style scoped>\n",
              "    .dataframe tbody tr th:only-of-type {\n",
              "        vertical-align: middle;\n",
              "    }\n",
              "\n",
              "    .dataframe tbody tr th {\n",
              "        vertical-align: top;\n",
              "    }\n",
              "\n",
              "    .dataframe thead th {\n",
              "        text-align: right;\n",
              "    }\n",
              "</style>\n",
              "<table border=\"1\" class=\"dataframe\">\n",
              "  <thead>\n",
              "    <tr style=\"text-align: right;\">\n",
              "      <th></th>\n",
              "      <th>Name</th>\n",
              "      <th>Department</th>\n",
              "      <th>CGPA</th>\n",
              "      <th>Points</th>\n",
              "      <th>Language</th>\n",
              "    </tr>\n",
              "  </thead>\n",
              "  <tbody>\n",
              "    <tr>\n",
              "      <th>First</th>\n",
              "      <td>Ramesh</td>\n",
              "      <td>CE</td>\n",
              "      <td>7.5</td>\n",
              "      <td>70.0</td>\n",
              "      <td>English</td>\n",
              "    </tr>\n",
              "    <tr>\n",
              "      <th>Second</th>\n",
              "      <td>Suresh</td>\n",
              "      <td>IT</td>\n",
              "      <td>8.1</td>\n",
              "      <td>88.0</td>\n",
              "      <td>English</td>\n",
              "    </tr>\n",
              "    <tr>\n",
              "      <th>Third</th>\n",
              "      <td>Meet</td>\n",
              "      <td>EE</td>\n",
              "      <td>9.33</td>\n",
              "      <td>49.0</td>\n",
              "      <td>English</td>\n",
              "    </tr>\n",
              "    <tr>\n",
              "      <th>Forth</th>\n",
              "      <td>Pratik</td>\n",
              "      <td>EC</td>\n",
              "      <td>6.56</td>\n",
              "      <td>71.0</td>\n",
              "      <td>English</td>\n",
              "    </tr>\n",
              "    <tr>\n",
              "      <th>Fifth</th>\n",
              "      <td>Rutvik</td>\n",
              "      <td>CI</td>\n",
              "      <td>8.55</td>\n",
              "      <td>63.0</td>\n",
              "      <td>English</td>\n",
              "    </tr>\n",
              "    <tr>\n",
              "      <th>Sixth</th>\n",
              "      <td>Parth</td>\n",
              "      <td>ME</td>\n",
              "      <td>9.2</td>\n",
              "      <td>NaN</td>\n",
              "      <td>Hindi</td>\n",
              "    </tr>\n",
              "  </tbody>\n",
              "</table>\n",
              "</div>"
            ],
            "text/plain": [
              "          Name Department  CGPA  Points Language\n",
              "First   Ramesh         CE   7.5    70.0  English\n",
              "Second  Suresh         IT   8.1    88.0  English\n",
              "Third     Meet         EE  9.33    49.0  English\n",
              "Forth   Pratik         EC  6.56    71.0  English\n",
              "Fifth   Rutvik         CI  8.55    63.0  English\n",
              "Sixth    Parth         ME   9.2     NaN    Hindi"
            ]
          },
          "metadata": {
            "tags": []
          },
          "execution_count": 50
        }
      ]
    },
    {
      "cell_type": "code",
      "metadata": {
        "id": "6g7DRnlnYNgf",
        "outputId": "7b0755c2-9ffc-41cf-d4d4-9dfc1607c901",
        "colab": {
          "base_uri": "https://localhost:8080/",
          "height": 197
        }
      },
      "source": [
        "df"
      ],
      "execution_count": null,
      "outputs": [
        {
          "output_type": "execute_result",
          "data": {
            "text/html": [
              "<div>\n",
              "<style scoped>\n",
              "    .dataframe tbody tr th:only-of-type {\n",
              "        vertical-align: middle;\n",
              "    }\n",
              "\n",
              "    .dataframe tbody tr th {\n",
              "        vertical-align: top;\n",
              "    }\n",
              "\n",
              "    .dataframe thead th {\n",
              "        text-align: right;\n",
              "    }\n",
              "</style>\n",
              "<table border=\"1\" class=\"dataframe\">\n",
              "  <thead>\n",
              "    <tr style=\"text-align: right;\">\n",
              "      <th></th>\n",
              "      <th>Name</th>\n",
              "      <th>Department</th>\n",
              "      <th>CGPA</th>\n",
              "      <th>Points</th>\n",
              "      <th>Language</th>\n",
              "    </tr>\n",
              "  </thead>\n",
              "  <tbody>\n",
              "    <tr>\n",
              "      <th>First</th>\n",
              "      <td>Ramesh</td>\n",
              "      <td>CE</td>\n",
              "      <td>7.50</td>\n",
              "      <td>70</td>\n",
              "      <td>English</td>\n",
              "    </tr>\n",
              "    <tr>\n",
              "      <th>Second</th>\n",
              "      <td>Suresh</td>\n",
              "      <td>IT</td>\n",
              "      <td>8.10</td>\n",
              "      <td>88</td>\n",
              "      <td>English</td>\n",
              "    </tr>\n",
              "    <tr>\n",
              "      <th>Third</th>\n",
              "      <td>Meet</td>\n",
              "      <td>EE</td>\n",
              "      <td>9.33</td>\n",
              "      <td>49</td>\n",
              "      <td>English</td>\n",
              "    </tr>\n",
              "    <tr>\n",
              "      <th>Forth</th>\n",
              "      <td>Pratik</td>\n",
              "      <td>EC</td>\n",
              "      <td>6.56</td>\n",
              "      <td>71</td>\n",
              "      <td>English</td>\n",
              "    </tr>\n",
              "    <tr>\n",
              "      <th>Fifth</th>\n",
              "      <td>Rutvik</td>\n",
              "      <td>CI</td>\n",
              "      <td>8.55</td>\n",
              "      <td>63</td>\n",
              "      <td>English</td>\n",
              "    </tr>\n",
              "  </tbody>\n",
              "</table>\n",
              "</div>"
            ],
            "text/plain": [
              "          Name Department  CGPA  Points Language\n",
              "First   Ramesh         CE  7.50      70  English\n",
              "Second  Suresh         IT  8.10      88  English\n",
              "Third     Meet         EE  9.33      49  English\n",
              "Forth   Pratik         EC  6.56      71  English\n",
              "Fifth   Rutvik         CI  8.55      63  English"
            ]
          },
          "metadata": {
            "tags": []
          },
          "execution_count": 51
        }
      ]
    },
    {
      "cell_type": "code",
      "metadata": {
        "id": "g3RHSrdkYcR5"
      },
      "source": [
        "# df.loc will modify original df and can be used to append data.\n",
        "\n",
        "df.loc['Sixth'] = pd.Series({\n",
        "    'Name' : 'Parth',\n",
        "    'Department' : 'ME',\n",
        "    'CGPA':'9.2',\n",
        "    'Language':'Hindi'\n",
        "})"
      ],
      "execution_count": null,
      "outputs": []
    },
    {
      "cell_type": "code",
      "metadata": {
        "id": "5kK4YVQwY8Db",
        "outputId": "77f224c1-25fa-4e95-cac9-70d80fb5d514",
        "colab": {
          "base_uri": "https://localhost:8080/",
          "height": 227
        }
      },
      "source": [
        "df"
      ],
      "execution_count": null,
      "outputs": [
        {
          "output_type": "execute_result",
          "data": {
            "text/html": [
              "<div>\n",
              "<style scoped>\n",
              "    .dataframe tbody tr th:only-of-type {\n",
              "        vertical-align: middle;\n",
              "    }\n",
              "\n",
              "    .dataframe tbody tr th {\n",
              "        vertical-align: top;\n",
              "    }\n",
              "\n",
              "    .dataframe thead th {\n",
              "        text-align: right;\n",
              "    }\n",
              "</style>\n",
              "<table border=\"1\" class=\"dataframe\">\n",
              "  <thead>\n",
              "    <tr style=\"text-align: right;\">\n",
              "      <th></th>\n",
              "      <th>Name</th>\n",
              "      <th>Department</th>\n",
              "      <th>CGPA</th>\n",
              "      <th>Points</th>\n",
              "      <th>Language</th>\n",
              "    </tr>\n",
              "  </thead>\n",
              "  <tbody>\n",
              "    <tr>\n",
              "      <th>First</th>\n",
              "      <td>Ramesh</td>\n",
              "      <td>CE</td>\n",
              "      <td>7.5</td>\n",
              "      <td>70.0</td>\n",
              "      <td>English</td>\n",
              "    </tr>\n",
              "    <tr>\n",
              "      <th>Second</th>\n",
              "      <td>Suresh</td>\n",
              "      <td>IT</td>\n",
              "      <td>8.1</td>\n",
              "      <td>88.0</td>\n",
              "      <td>English</td>\n",
              "    </tr>\n",
              "    <tr>\n",
              "      <th>Third</th>\n",
              "      <td>Meet</td>\n",
              "      <td>EE</td>\n",
              "      <td>9.33</td>\n",
              "      <td>49.0</td>\n",
              "      <td>English</td>\n",
              "    </tr>\n",
              "    <tr>\n",
              "      <th>Forth</th>\n",
              "      <td>Pratik</td>\n",
              "      <td>EC</td>\n",
              "      <td>6.56</td>\n",
              "      <td>71.0</td>\n",
              "      <td>English</td>\n",
              "    </tr>\n",
              "    <tr>\n",
              "      <th>Fifth</th>\n",
              "      <td>Rutvik</td>\n",
              "      <td>CI</td>\n",
              "      <td>8.55</td>\n",
              "      <td>63.0</td>\n",
              "      <td>English</td>\n",
              "    </tr>\n",
              "    <tr>\n",
              "      <th>Sixth</th>\n",
              "      <td>Parth</td>\n",
              "      <td>ME</td>\n",
              "      <td>9.2</td>\n",
              "      <td>NaN</td>\n",
              "      <td>Hindi</td>\n",
              "    </tr>\n",
              "  </tbody>\n",
              "</table>\n",
              "</div>"
            ],
            "text/plain": [
              "          Name Department  CGPA  Points Language\n",
              "First   Ramesh         CE   7.5    70.0  English\n",
              "Second  Suresh         IT   8.1    88.0  English\n",
              "Third     Meet         EE  9.33    49.0  English\n",
              "Forth   Pratik         EC  6.56    71.0  English\n",
              "Fifth   Rutvik         CI  8.55    63.0  English\n",
              "Sixth    Parth         ME   9.2     NaN    Hindi"
            ]
          },
          "metadata": {
            "tags": []
          },
          "execution_count": 53
        }
      ]
    },
    {
      "cell_type": "code",
      "metadata": {
        "id": "LHVEvQiAZA2t",
        "outputId": "56aecdf0-ccca-4ce7-d406-272fa9b91cd9",
        "colab": {
          "base_uri": "https://localhost:8080/",
          "height": 197
        }
      },
      "source": [
        "df.drop('Sixth', inplace = True) # Will permanently change df.\n",
        "df"
      ],
      "execution_count": null,
      "outputs": [
        {
          "output_type": "execute_result",
          "data": {
            "text/html": [
              "<div>\n",
              "<style scoped>\n",
              "    .dataframe tbody tr th:only-of-type {\n",
              "        vertical-align: middle;\n",
              "    }\n",
              "\n",
              "    .dataframe tbody tr th {\n",
              "        vertical-align: top;\n",
              "    }\n",
              "\n",
              "    .dataframe thead th {\n",
              "        text-align: right;\n",
              "    }\n",
              "</style>\n",
              "<table border=\"1\" class=\"dataframe\">\n",
              "  <thead>\n",
              "    <tr style=\"text-align: right;\">\n",
              "      <th></th>\n",
              "      <th>Name</th>\n",
              "      <th>Department</th>\n",
              "      <th>CGPA</th>\n",
              "      <th>Points</th>\n",
              "      <th>Language</th>\n",
              "    </tr>\n",
              "  </thead>\n",
              "  <tbody>\n",
              "    <tr>\n",
              "      <th>First</th>\n",
              "      <td>Ramesh</td>\n",
              "      <td>CE</td>\n",
              "      <td>7.5</td>\n",
              "      <td>70.0</td>\n",
              "      <td>English</td>\n",
              "    </tr>\n",
              "    <tr>\n",
              "      <th>Second</th>\n",
              "      <td>Suresh</td>\n",
              "      <td>IT</td>\n",
              "      <td>8.1</td>\n",
              "      <td>88.0</td>\n",
              "      <td>English</td>\n",
              "    </tr>\n",
              "    <tr>\n",
              "      <th>Third</th>\n",
              "      <td>Meet</td>\n",
              "      <td>EE</td>\n",
              "      <td>9.33</td>\n",
              "      <td>49.0</td>\n",
              "      <td>English</td>\n",
              "    </tr>\n",
              "    <tr>\n",
              "      <th>Forth</th>\n",
              "      <td>Pratik</td>\n",
              "      <td>EC</td>\n",
              "      <td>6.56</td>\n",
              "      <td>71.0</td>\n",
              "      <td>English</td>\n",
              "    </tr>\n",
              "    <tr>\n",
              "      <th>Fifth</th>\n",
              "      <td>Rutvik</td>\n",
              "      <td>CI</td>\n",
              "      <td>8.55</td>\n",
              "      <td>63.0</td>\n",
              "      <td>English</td>\n",
              "    </tr>\n",
              "  </tbody>\n",
              "</table>\n",
              "</div>"
            ],
            "text/plain": [
              "          Name Department  CGPA  Points Language\n",
              "First   Ramesh         CE   7.5    70.0  English\n",
              "Second  Suresh         IT   8.1    88.0  English\n",
              "Third     Meet         EE  9.33    49.0  English\n",
              "Forth   Pratik         EC  6.56    71.0  English\n",
              "Fifth   Rutvik         CI  8.55    63.0  English"
            ]
          },
          "metadata": {
            "tags": []
          },
          "execution_count": 54
        }
      ]
    },
    {
      "cell_type": "markdown",
      "metadata": {
        "id": "wq648ILuZliM"
      },
      "source": [
        "**Creating columns from another columns**"
      ]
    },
    {
      "cell_type": "code",
      "metadata": {
        "id": "HjjfVOP0ZrBj",
        "outputId": "57a5c64a-cbc4-47ab-d576-5b6d6f165401",
        "colab": {
          "base_uri": "https://localhost:8080/",
          "height": 197
        }
      },
      "source": [
        "df[['Name','CGPA','Points']]"
      ],
      "execution_count": null,
      "outputs": [
        {
          "output_type": "execute_result",
          "data": {
            "text/html": [
              "<div>\n",
              "<style scoped>\n",
              "    .dataframe tbody tr th:only-of-type {\n",
              "        vertical-align: middle;\n",
              "    }\n",
              "\n",
              "    .dataframe tbody tr th {\n",
              "        vertical-align: top;\n",
              "    }\n",
              "\n",
              "    .dataframe thead th {\n",
              "        text-align: right;\n",
              "    }\n",
              "</style>\n",
              "<table border=\"1\" class=\"dataframe\">\n",
              "  <thead>\n",
              "    <tr style=\"text-align: right;\">\n",
              "      <th></th>\n",
              "      <th>Name</th>\n",
              "      <th>CGPA</th>\n",
              "      <th>Points</th>\n",
              "    </tr>\n",
              "  </thead>\n",
              "  <tbody>\n",
              "    <tr>\n",
              "      <th>First</th>\n",
              "      <td>Ramesh</td>\n",
              "      <td>7.5</td>\n",
              "      <td>70.0</td>\n",
              "    </tr>\n",
              "    <tr>\n",
              "      <th>Second</th>\n",
              "      <td>Suresh</td>\n",
              "      <td>8.1</td>\n",
              "      <td>88.0</td>\n",
              "    </tr>\n",
              "    <tr>\n",
              "      <th>Third</th>\n",
              "      <td>Meet</td>\n",
              "      <td>9.33</td>\n",
              "      <td>49.0</td>\n",
              "    </tr>\n",
              "    <tr>\n",
              "      <th>Forth</th>\n",
              "      <td>Pratik</td>\n",
              "      <td>6.56</td>\n",
              "      <td>71.0</td>\n",
              "    </tr>\n",
              "    <tr>\n",
              "      <th>Fifth</th>\n",
              "      <td>Rutvik</td>\n",
              "      <td>8.55</td>\n",
              "      <td>63.0</td>\n",
              "    </tr>\n",
              "  </tbody>\n",
              "</table>\n",
              "</div>"
            ],
            "text/plain": [
              "          Name  CGPA  Points\n",
              "First   Ramesh   7.5    70.0\n",
              "Second  Suresh   8.1    88.0\n",
              "Third     Meet  9.33    49.0\n",
              "Forth   Pratik  6.56    71.0\n",
              "Fifth   Rutvik  8.55    63.0"
            ]
          },
          "metadata": {
            "tags": []
          },
          "execution_count": 55
        }
      ]
    },
    {
      "cell_type": "code",
      "metadata": {
        "id": "OOxLWXkcZyK4",
        "outputId": "ac374c9e-f44f-4f2b-cb1e-08a81aa6f0e2",
        "colab": {
          "base_uri": "https://localhost:8080/"
        }
      },
      "source": [
        "df['CGPA']/df['Points']"
      ],
      "execution_count": null,
      "outputs": [
        {
          "output_type": "execute_result",
          "data": {
            "text/plain": [
              "First      0.107143\n",
              "Second    0.0920455\n",
              "Third      0.190408\n",
              "Forth     0.0923944\n",
              "Fifth      0.135714\n",
              "dtype: object"
            ]
          },
          "metadata": {
            "tags": []
          },
          "execution_count": 56
        }
      ]
    },
    {
      "cell_type": "code",
      "metadata": {
        "id": "yHYJGXTOZ14U",
        "outputId": "895eeea8-fe15-4354-d3f5-c9cf401c38f5",
        "colab": {
          "base_uri": "https://localhost:8080/",
          "height": 197
        }
      },
      "source": [
        "df ['Rating'] = (df['CGPA'] * 10 + df['Points'])/2\n",
        "df"
      ],
      "execution_count": null,
      "outputs": [
        {
          "output_type": "execute_result",
          "data": {
            "text/html": [
              "<div>\n",
              "<style scoped>\n",
              "    .dataframe tbody tr th:only-of-type {\n",
              "        vertical-align: middle;\n",
              "    }\n",
              "\n",
              "    .dataframe tbody tr th {\n",
              "        vertical-align: top;\n",
              "    }\n",
              "\n",
              "    .dataframe thead th {\n",
              "        text-align: right;\n",
              "    }\n",
              "</style>\n",
              "<table border=\"1\" class=\"dataframe\">\n",
              "  <thead>\n",
              "    <tr style=\"text-align: right;\">\n",
              "      <th></th>\n",
              "      <th>Name</th>\n",
              "      <th>Department</th>\n",
              "      <th>CGPA</th>\n",
              "      <th>Points</th>\n",
              "      <th>Language</th>\n",
              "      <th>Rating</th>\n",
              "    </tr>\n",
              "  </thead>\n",
              "  <tbody>\n",
              "    <tr>\n",
              "      <th>First</th>\n",
              "      <td>Ramesh</td>\n",
              "      <td>CE</td>\n",
              "      <td>7.5</td>\n",
              "      <td>70.0</td>\n",
              "      <td>English</td>\n",
              "      <td>72.5</td>\n",
              "    </tr>\n",
              "    <tr>\n",
              "      <th>Second</th>\n",
              "      <td>Suresh</td>\n",
              "      <td>IT</td>\n",
              "      <td>8.1</td>\n",
              "      <td>88.0</td>\n",
              "      <td>English</td>\n",
              "      <td>84.5</td>\n",
              "    </tr>\n",
              "    <tr>\n",
              "      <th>Third</th>\n",
              "      <td>Meet</td>\n",
              "      <td>EE</td>\n",
              "      <td>9.33</td>\n",
              "      <td>49.0</td>\n",
              "      <td>English</td>\n",
              "      <td>71.15</td>\n",
              "    </tr>\n",
              "    <tr>\n",
              "      <th>Forth</th>\n",
              "      <td>Pratik</td>\n",
              "      <td>EC</td>\n",
              "      <td>6.56</td>\n",
              "      <td>71.0</td>\n",
              "      <td>English</td>\n",
              "      <td>68.3</td>\n",
              "    </tr>\n",
              "    <tr>\n",
              "      <th>Fifth</th>\n",
              "      <td>Rutvik</td>\n",
              "      <td>CI</td>\n",
              "      <td>8.55</td>\n",
              "      <td>63.0</td>\n",
              "      <td>English</td>\n",
              "      <td>74.25</td>\n",
              "    </tr>\n",
              "  </tbody>\n",
              "</table>\n",
              "</div>"
            ],
            "text/plain": [
              "          Name Department  CGPA  Points Language Rating\n",
              "First   Ramesh         CE   7.5    70.0  English   72.5\n",
              "Second  Suresh         IT   8.1    88.0  English   84.5\n",
              "Third     Meet         EE  9.33    49.0  English  71.15\n",
              "Forth   Pratik         EC  6.56    71.0  English   68.3\n",
              "Fifth   Rutvik         CI  8.55    63.0  English  74.25"
            ]
          },
          "metadata": {
            "tags": []
          },
          "execution_count": 57
        }
      ]
    },
    {
      "cell_type": "markdown",
      "metadata": {
        "id": "f6yrxcw_abD6"
      },
      "source": [
        "**Statistical Information**"
      ]
    },
    {
      "cell_type": "code",
      "metadata": {
        "id": "PtmfN5_caej9",
        "outputId": "af454e3b-5e83-492c-bef9-bbd4ee98711c",
        "colab": {
          "base_uri": "https://localhost:8080/",
          "height": 197
        }
      },
      "source": [
        "df.head()"
      ],
      "execution_count": null,
      "outputs": [
        {
          "output_type": "execute_result",
          "data": {
            "text/html": [
              "<div>\n",
              "<style scoped>\n",
              "    .dataframe tbody tr th:only-of-type {\n",
              "        vertical-align: middle;\n",
              "    }\n",
              "\n",
              "    .dataframe tbody tr th {\n",
              "        vertical-align: top;\n",
              "    }\n",
              "\n",
              "    .dataframe thead th {\n",
              "        text-align: right;\n",
              "    }\n",
              "</style>\n",
              "<table border=\"1\" class=\"dataframe\">\n",
              "  <thead>\n",
              "    <tr style=\"text-align: right;\">\n",
              "      <th></th>\n",
              "      <th>Name</th>\n",
              "      <th>Department</th>\n",
              "      <th>CGPA</th>\n",
              "      <th>Points</th>\n",
              "      <th>Language</th>\n",
              "      <th>Rating</th>\n",
              "    </tr>\n",
              "  </thead>\n",
              "  <tbody>\n",
              "    <tr>\n",
              "      <th>First</th>\n",
              "      <td>Ramesh</td>\n",
              "      <td>CE</td>\n",
              "      <td>7.5</td>\n",
              "      <td>70.0</td>\n",
              "      <td>English</td>\n",
              "      <td>72.5</td>\n",
              "    </tr>\n",
              "    <tr>\n",
              "      <th>Second</th>\n",
              "      <td>Suresh</td>\n",
              "      <td>IT</td>\n",
              "      <td>8.1</td>\n",
              "      <td>88.0</td>\n",
              "      <td>English</td>\n",
              "      <td>84.5</td>\n",
              "    </tr>\n",
              "    <tr>\n",
              "      <th>Third</th>\n",
              "      <td>Meet</td>\n",
              "      <td>EE</td>\n",
              "      <td>9.33</td>\n",
              "      <td>49.0</td>\n",
              "      <td>English</td>\n",
              "      <td>71.15</td>\n",
              "    </tr>\n",
              "    <tr>\n",
              "      <th>Forth</th>\n",
              "      <td>Pratik</td>\n",
              "      <td>EC</td>\n",
              "      <td>6.56</td>\n",
              "      <td>71.0</td>\n",
              "      <td>English</td>\n",
              "      <td>68.3</td>\n",
              "    </tr>\n",
              "    <tr>\n",
              "      <th>Fifth</th>\n",
              "      <td>Rutvik</td>\n",
              "      <td>CI</td>\n",
              "      <td>8.55</td>\n",
              "      <td>63.0</td>\n",
              "      <td>English</td>\n",
              "      <td>74.25</td>\n",
              "    </tr>\n",
              "  </tbody>\n",
              "</table>\n",
              "</div>"
            ],
            "text/plain": [
              "          Name Department  CGPA  Points Language Rating\n",
              "First   Ramesh         CE   7.5    70.0  English   72.5\n",
              "Second  Suresh         IT   8.1    88.0  English   84.5\n",
              "Third     Meet         EE  9.33    49.0  English  71.15\n",
              "Forth   Pratik         EC  6.56    71.0  English   68.3\n",
              "Fifth   Rutvik         CI  8.55    63.0  English  74.25"
            ]
          },
          "metadata": {
            "tags": []
          },
          "execution_count": 58
        }
      ]
    },
    {
      "cell_type": "code",
      "metadata": {
        "id": "Nni-_c8bagbN",
        "outputId": "34e3f1f3-1341-4cd6-c986-1929d91ea31a",
        "colab": {
          "base_uri": "https://localhost:8080/",
          "height": 287
        }
      },
      "source": [
        "df.describe()"
      ],
      "execution_count": null,
      "outputs": [
        {
          "output_type": "execute_result",
          "data": {
            "text/html": [
              "<div>\n",
              "<style scoped>\n",
              "    .dataframe tbody tr th:only-of-type {\n",
              "        vertical-align: middle;\n",
              "    }\n",
              "\n",
              "    .dataframe tbody tr th {\n",
              "        vertical-align: top;\n",
              "    }\n",
              "\n",
              "    .dataframe thead th {\n",
              "        text-align: right;\n",
              "    }\n",
              "</style>\n",
              "<table border=\"1\" class=\"dataframe\">\n",
              "  <thead>\n",
              "    <tr style=\"text-align: right;\">\n",
              "      <th></th>\n",
              "      <th>Points</th>\n",
              "    </tr>\n",
              "  </thead>\n",
              "  <tbody>\n",
              "    <tr>\n",
              "      <th>count</th>\n",
              "      <td>5.000000</td>\n",
              "    </tr>\n",
              "    <tr>\n",
              "      <th>mean</th>\n",
              "      <td>68.200000</td>\n",
              "    </tr>\n",
              "    <tr>\n",
              "      <th>std</th>\n",
              "      <td>14.131525</td>\n",
              "    </tr>\n",
              "    <tr>\n",
              "      <th>min</th>\n",
              "      <td>49.000000</td>\n",
              "    </tr>\n",
              "    <tr>\n",
              "      <th>25%</th>\n",
              "      <td>63.000000</td>\n",
              "    </tr>\n",
              "    <tr>\n",
              "      <th>50%</th>\n",
              "      <td>70.000000</td>\n",
              "    </tr>\n",
              "    <tr>\n",
              "      <th>75%</th>\n",
              "      <td>71.000000</td>\n",
              "    </tr>\n",
              "    <tr>\n",
              "      <th>max</th>\n",
              "      <td>88.000000</td>\n",
              "    </tr>\n",
              "  </tbody>\n",
              "</table>\n",
              "</div>"
            ],
            "text/plain": [
              "          Points\n",
              "count   5.000000\n",
              "mean   68.200000\n",
              "std    14.131525\n",
              "min    49.000000\n",
              "25%    63.000000\n",
              "50%    70.000000\n",
              "75%    71.000000\n",
              "max    88.000000"
            ]
          },
          "metadata": {
            "tags": []
          },
          "execution_count": 59
        }
      ]
    },
    {
      "cell_type": "code",
      "metadata": {
        "id": "q-rJ-nBmajDq"
      },
      "source": [
        "cgpa = df['CGPA']"
      ],
      "execution_count": null,
      "outputs": []
    },
    {
      "cell_type": "code",
      "metadata": {
        "id": "gmg_3pn5aqf1",
        "outputId": "0f3f3fa4-0fcd-4e5f-c12b-536fcc9bf53f",
        "colab": {
          "base_uri": "https://localhost:8080/"
        }
      },
      "source": [
        "print(\"min cgpa : \",cgpa.min())\n",
        "print(\"max cgpa : \",cgpa.max())\n",
        "print(\"length of it : \",len(cgpa))\n",
        "print(\"sum of it : \",cgpa.sum())\n",
        "print(\"standard deviation : \",cgpa.std())\n",
        "print(\"Mean of it : \",cgpa.mean())\n",
        "print(\"Median of it : \",cgpa.median())"
      ],
      "execution_count": null,
      "outputs": [
        {
          "output_type": "stream",
          "text": [
            "min cgpa :  6.56\n",
            "max cgpa :  9.33\n",
            "length of it :  5\n",
            "sum of it :  40.04\n",
            "standard deviation :  1.0493664755460794\n",
            "Mean of it :  8.008\n",
            "Median of it :  8.1\n"
          ],
          "name": "stdout"
        }
      ]
    },
    {
      "cell_type": "code",
      "metadata": {
        "id": "PRSl3Z1FbRSH",
        "outputId": "dcdeb219-4078-43bd-8ded-e661787b62f5",
        "colab": {
          "base_uri": "https://localhost:8080/"
        }
      },
      "source": [
        "cgpa.describe()"
      ],
      "execution_count": null,
      "outputs": [
        {
          "output_type": "execute_result",
          "data": {
            "text/plain": [
              "count     5.0\n",
              "unique    5.0\n",
              "top       7.5\n",
              "freq      1.0\n",
              "Name: CGPA, dtype: float64"
            ]
          },
          "metadata": {
            "tags": []
          },
          "execution_count": 62
        }
      ]
    },
    {
      "cell_type": "code",
      "metadata": {
        "id": "CzHvvu1bbWqb",
        "outputId": "34a83a6a-a02a-4c13-baa5-45c7bc276f2c",
        "colab": {
          "base_uri": "https://localhost:8080/"
        }
      },
      "source": [
        "cgpa.quantile(.25) # at 25% percentile which value is it"
      ],
      "execution_count": null,
      "outputs": [
        {
          "output_type": "execute_result",
          "data": {
            "text/plain": [
              "7.5"
            ]
          },
          "metadata": {
            "tags": []
          },
          "execution_count": 63
        }
      ]
    },
    {
      "cell_type": "code",
      "metadata": {
        "id": "Wtt3syy8baSC",
        "outputId": "65de339c-8751-4e8b-93c2-69ff55ab53fc",
        "colab": {
          "base_uri": "https://localhost:8080/"
        }
      },
      "source": [
        "cgpa.quantile([.2, .4, .6, .8, 1])"
      ],
      "execution_count": null,
      "outputs": [
        {
          "output_type": "execute_result",
          "data": {
            "text/plain": [
              "0.2    7.312\n",
              "0.4     7.86\n",
              "0.6     8.28\n",
              "0.8    8.706\n",
              "1.0     9.33\n",
              "Name: CGPA, dtype: object"
            ]
          },
          "metadata": {
            "tags": []
          },
          "execution_count": 64
        }
      ]
    },
    {
      "cell_type": "code",
      "metadata": {
        "id": "HteBte6DTFcB"
      },
      "source": [
        ""
      ],
      "execution_count": null,
      "outputs": []
    }
  ]
}